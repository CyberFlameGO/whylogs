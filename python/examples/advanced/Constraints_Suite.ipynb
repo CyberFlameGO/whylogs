{
 "cells": [
  {
   "cell_type": "code",
   "execution_count": 4,
   "metadata": {},
   "outputs": [
    {
     "name": "stdout",
     "output_type": "stream",
     "text": [
      "Profile view #1\n",
      "\n",
      "Index(['counts/n', 'counts/null', 'types/integral', 'types/fractional',\n",
      "       'types/boolean', 'types/string', 'types/object', 'cardinality/est',\n",
      "       'cardinality/upper_1', 'cardinality/lower_1',\n",
      "       'frequent_items/frequent_strings', 'type', 'distribution/mean',\n",
      "       'distribution/stddev', 'distribution/n', 'distribution/max',\n",
      "       'distribution/min', 'distribution/q_01', 'distribution/q_05',\n",
      "       'distribution/q_10', 'distribution/q_25', 'distribution/median',\n",
      "       'distribution/q_75', 'distribution/q_90', 'distribution/q_95',\n",
      "       'distribution/q_99', 'ints/max', 'ints/min'],\n",
      "      dtype='object')\n",
      "\n",
      "Profile view #2\n",
      "\n",
      "Index(['types/integral', 'types/fractional', 'types/boolean', 'types/string',\n",
      "       'types/object', 'cardinality/est', 'cardinality/upper_1',\n",
      "       'cardinality/lower_1', 'counts/n', 'counts/null',\n",
      "       'frequent_items/frequent_strings', 'type', 'distribution/mean',\n",
      "       'distribution/stddev', 'distribution/n', 'distribution/max',\n",
      "       'distribution/min', 'distribution/q_01', 'distribution/q_05',\n",
      "       'distribution/q_10', 'distribution/q_25', 'distribution/median',\n",
      "       'distribution/q_75', 'distribution/q_90', 'distribution/q_95',\n",
      "       'distribution/q_99', 'ints/max', 'ints/min'],\n",
      "      dtype='object')\n"
     ]
    }
   ],
   "source": [
    "import pandas as pd\n",
    "data = {\n",
    "    \"animal\": [\"cat\", \"hawk\", \"snake\", \"cat\"],\n",
    "    \"legs\": [4, 2, 0, 4],\n",
    "    \"weight\": [4.3, 1.8, 1.3, 4.1],\n",
    "}\n",
    "\n",
    "df = pd.DataFrame(data)\n",
    "\n",
    "import whylogs as why\n",
    "\n",
    "profile_view = why.log(df).profile().view()\n",
    "\n",
    "print(\"Profile view #1\\n\")\n",
    "print(profile_view.to_pandas().columns)\n",
    "\n",
    "merged_view = profile_view.merge(profile_view)\n",
    "print(\"\\nProfile view #2\\n\")\n",
    "print(merged_view.to_pandas().columns)"
   ]
  },
  {
   "cell_type": "code",
   "execution_count": null,
   "metadata": {},
   "outputs": [],
   "source": [
    "from whylogs.core.constraints import ConstraintsBuilder, MetricConstraint, MetricsSelector"
   ]
  },
  {
   "cell_type": "markdown",
   "metadata": {},
   "source": [
    "## Distribution Metrics Constraints"
   ]
  },
  {
   "cell_type": "code",
   "execution_count": null,
   "metadata": {},
   "outputs": [],
   "source": [
    "def greater_than_number(column_name, number):\n",
    "    \"\"\"Minimum value of given column must be above defined number.\n",
    "\n",
    "    Parameters\n",
    "    ----------\n",
    "    column_name : str\n",
    "        Column the constraint is applied to\n",
    "    number : float\n",
    "        reference value for applying the constraint\n",
    "\n",
    "    \"\"\"\n",
    "    constraint = MetricConstraint(\n",
    "        name=\"{} greater than number {}\".format(column_name,number),\n",
    "        condition=lambda x: x.min > number,\n",
    "        metric_selector=MetricsSelector(column_name=column_name, metric_name=\"distribution\"),\n",
    "    )\n",
    "    return constraint\n",
    "\n",
    "def mean_between_range(column_name, lower, upper):\n",
    "    \"\"\"Estimated mean must be between range defined by lower and upper bounds.\n",
    "\n",
    "    Parameters\n",
    "    ----------\n",
    "    column_name : str\n",
    "        Column the constraint is applied to\n",
    "    lower : int\n",
    "        Lower bound of defined range\n",
    "    upper : int\n",
    "        Upper bound of the value range\n",
    "    \"\"\"\n",
    "\n",
    "    constraint = MetricConstraint(\n",
    "        name=\"{} mean between {} and {} (inclusive)\".format(column_name, lower, upper),\n",
    "        condition=lambda x: lower <= x.avg <= upper,\n",
    "        metric_selector=MetricsSelector(column_name=column_name, metric_name=\"distribution\"),\n",
    "    )\n",
    "    return constraint\n",
    "\n",
    "\n",
    "def lower_than_number(column_name, number):\n",
    "    \"\"\"Maximum value of given column must be below defined number.\n",
    "\n",
    "    Parameters\n",
    "    ----------\n",
    "    column_name : str\n",
    "        Column the constraint is applied to\n",
    "    number : float\n",
    "        reference value for applying the constraint\n",
    "\n",
    "    \"\"\"\n",
    "\n",
    "    constraint = MetricConstraint(\n",
    "        name=\"{} lower than number {}\".format(column_name,number),\n",
    "        # check for nans, Nones\n",
    "        condition=lambda x: x.max < number,\n",
    "        metric_selector=MetricsSelector(column_name=column_name, metric_name=\"distribution\"),\n",
    "    )\n",
    "    return constraint\n",
    "\n",
    "def stddev_between_range(column_name,lower,upper):\n",
    "    \"\"\"Estimated standard deviation must be between range defined by lower and upper bounds.\n",
    "\n",
    "    Parameters\n",
    "    ----------\n",
    "    column_name : str\n",
    "        Column the constraint is applied to\n",
    "    lower : int\n",
    "        Lower bound of defined range\n",
    "    upper : int\n",
    "        Upper bound of the value range\n",
    "    \"\"\"\n",
    "\n",
    "    constraint = MetricConstraint(\n",
    "        name=\"{} standard deviation between {} and {} (inclusive)\".format(column_name, lower, upper),\n",
    "        condition=lambda x: lower <= x.stddev <= upper,\n",
    "        metric_selector=MetricsSelector(column_name=column_name, metric_name=\"distribution\"),\n",
    "    )\n",
    "    return constraint\n",
    "\n",
    "\n",
    "def quantile_between_range(column_name:str, quantile_value: float, lower: float,upper: float):\n",
    "    \"\"\"Q-th quantile value must be withing the range defined by lower and upper boundaries.\n",
    "\n",
    "    Parameters\n",
    "    ----------\n",
    "    column_name : str\n",
    "        Column the constraint is applied to\n",
    "    quantile_value : float\n",
    "        Quantile value. E.g. median is equal to quantile_value=0.5\n",
    "    lower : float\n",
    "        Lower bound of defined range\n",
    "    upper : float\n",
    "        Upper bound of the value range\n",
    "    \"\"\"\n",
    "    #TODO\n",
    "    pass"
   ]
  },
  {
   "cell_type": "markdown",
   "metadata": {},
   "source": [
    "### Examples - Distribution Metrics Constraints"
   ]
  },
  {
   "cell_type": "code",
   "execution_count": null,
   "metadata": {},
   "outputs": [],
   "source": []
  },
  {
   "cell_type": "markdown",
   "metadata": {},
   "source": [
    "## Frequent Items/Frequent Strings Constraints"
   ]
  },
  {
   "cell_type": "code",
   "execution_count": null,
   "metadata": {},
   "outputs": [],
   "source": [
    "def frequent_strings_in_reference_set(column_name:str,reference_set:dict):\n",
    "    \"\"\"Every item in frequent strings must be in defined reference set\n",
    "\n",
    "    Parameters\n",
    "    ----------\n",
    "    column_name : str\n",
    "        Columns the constraint is applied to.\n",
    "    reference_set : dict\n",
    "        Reference set for applying the constraint\n",
    "    \"\"\"\n",
    "    from whylogs.core.configs import SummaryConfig\n",
    "    frequent_strings = MetricsSelector(metric_name='frequent_items', column_name=column_name)\n",
    "    labels_in_set = lambda x: all(y.value in reference_set for y in x.to_summary_dict(SummaryConfig())['frequent_strings'])\n",
    "    constraint_name = \"{} values in set {}\".format(column_name,reference_set)\n",
    "    constraint = MetricConstraint(\n",
    "            name=constraint_name,\n",
    "            condition=labels_in_set,\n",
    "            metric_selector=frequent_strings)\n",
    "    return constraint\n",
    "\n",
    "def n_most_common_items_in_set(column_name:str, n:int, reference_set: dict):\n",
    "    \"\"\" n most common items must be in defined reference_set\n",
    "\n",
    "    Parameters\n",
    "    ----------\n",
    "    column_name : str\n",
    "        Columns the constraint is applied to.\n",
    "    n : int\n",
    "        n most common items or strings.\n",
    "    reference_set : dict\n",
    "        Reference set for applying the constraint\n",
    "    \"\"\"\n",
    "\n",
    "    pass\n",
    "\n"
   ]
  },
  {
   "cell_type": "markdown",
   "metadata": {},
   "source": [
    "### Examples - Frequent Items/Frequent Strings Constraints"
   ]
  },
  {
   "cell_type": "code",
   "execution_count": null,
   "metadata": {},
   "outputs": [],
   "source": []
  },
  {
   "cell_type": "markdown",
   "metadata": {},
   "source": [
    "## Counters Constraints"
   ]
  },
  {
   "cell_type": "code",
   "execution_count": 4,
   "metadata": {},
   "outputs": [],
   "source": [
    "def total_value_below_number(column_name:str, number:int):\n",
    "    \"\"\"Number of total value must be below given number.\n",
    "\n",
    "    Parameters\n",
    "    ----------\n",
    "    column_name : str\n",
    "        Column the constraint is applied to\n",
    "    number : float\n",
    "        reference value for applying the constraint\n",
    "    \"\"\"\n",
    "\n",
    "    constraint = MetricConstraint(\n",
    "        name=\"null values of {} lower than number {}\".format(column_name,number),\n",
    "        condition=lambda x: x.n.value < number,\n",
    "        metric_selector=MetricsSelector(column_name=column_name, metric_name=\"counts\"),\n",
    "    )\n",
    "    return constraint\n"
   ]
  },
  {
   "cell_type": "markdown",
   "metadata": {},
   "source": [
    "### Null values"
   ]
  },
  {
   "cell_type": "code",
   "execution_count": null,
   "metadata": {},
   "outputs": [],
   "source": [
    "\n",
    "def null_values_below_number(column_name:str, number:int):\n",
    "    \"\"\"Number of null values must be below given number.\n",
    "\n",
    "    Parameters\n",
    "    ----------\n",
    "    column_name : str\n",
    "        Column the constraint is applied to\n",
    "    number : float\n",
    "        reference value for applying the constraint\n",
    "    \"\"\"\n",
    "\n",
    "    constraint = MetricConstraint(\n",
    "        name=\"null values of {} lower than number {}\".format(column_name,number),\n",
    "        condition=lambda x: x.null.value < number,\n",
    "        metric_selector=MetricsSelector(column_name=column_name, metric_name=\"counts\"),\n",
    "    )\n",
    "    return constraint\n",
    "\n",
    "    \n",
    "def null_pct_below_number(column_name:str, number:float):\n",
    "    \"\"\"Percentage of null values must be below given number.\n",
    "\n",
    "    Parameters\n",
    "    ----------\n",
    "    column_name : str\n",
    "        Column the constraint is applied to\n",
    "    number : float\n",
    "        reference value for applying the constraint\n",
    "    \"\"\"\n",
    "\n",
    "    constraint = MetricConstraint(\n",
    "        name=\"null percentage of {} lower than number {}\".format(column_name,number),\n",
    "        condition=lambda x: x.null.value/x.n.value < number,\n",
    "        metric_selector=MetricsSelector(column_name=column_name, metric_name=\"counts\"),\n",
    "    )\n",
    "    return constraint"
   ]
  },
  {
   "cell_type": "markdown",
   "metadata": {},
   "source": [
    "### Examples - Counters Constraints"
   ]
  },
  {
   "cell_type": "code",
   "execution_count": null,
   "metadata": {},
   "outputs": [],
   "source": []
  },
  {
   "cell_type": "markdown",
   "metadata": {},
   "source": [
    "## Cardinality Constraints"
   ]
  },
  {
   "cell_type": "code",
   "execution_count": null,
   "metadata": {},
   "outputs": [],
   "source": [
    "\n",
    "\n",
    "def distinct_number_in_range(column_name:str, lower: int, upper:int):\n",
    "    \"\"\"Number of distinct categories must be between lower and upper values (inclusive).\n",
    "\n",
    "    Parameters\n",
    "    ----------\n",
    "    column_name : str\n",
    "        Column the constraint is applied to\n",
    "    lower : int\n",
    "        Lower bound of defined range\n",
    "    upper : int\n",
    "        Upper bound of the value range\n",
    "    \"\"\"\n",
    "    #todo\n",
    "    pass\n",
    "\n",
    "def percentage_distinct_in_range(column_name:str, lower: float, upper:float):\n",
    "    \"\"\"Percentage of distinct values relative to total number must be between lower and upper values (inclusive).\n",
    "\n",
    "    Parameters\n",
    "    ----------\n",
    "    column_name : str\n",
    "        Column the constraint is applied to\n",
    "    lower : int\n",
    "        Lower bound of defined range\n",
    "    upper : int\n",
    "        Upper bound of the value range\n",
    "    \"\"\"\n",
    "\n",
    "    #todo\n",
    "    pass"
   ]
  },
  {
   "cell_type": "markdown",
   "metadata": {},
   "source": [
    "### Examples - Cardinality Constraints"
   ]
  },
  {
   "cell_type": "code",
   "execution_count": null,
   "metadata": {},
   "outputs": [],
   "source": []
  }
 ],
 "metadata": {
  "kernelspec": {
   "display_name": "Python 3.8.13 ('v1.x')",
   "language": "python",
   "name": "python3"
  },
  "language_info": {
   "codemirror_mode": {
    "name": "ipython",
    "version": 3
   },
   "file_extension": ".py",
   "mimetype": "text/x-python",
   "name": "python",
   "nbconvert_exporter": "python",
   "pygments_lexer": "ipython3",
   "version": "3.8.13"
  },
  "orig_nbformat": 4,
  "vscode": {
   "interpreter": {
    "hash": "f76ec28949fecf16b926a3fc5a03c1aa6468ee82fa5da4ce6fd607df021af5b5"
   }
  }
 },
 "nbformat": 4,
 "nbformat_minor": 2
}
