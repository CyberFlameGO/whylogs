{
 "cells": [
  {
   "cell_type": "markdown",
   "source": [
    "# Rolling Logs with Streaming Data\n",
    "[![Open in Colab](https://colab.research.google.com/assets/colab-badge.svg)](https://colab.research.google.com/github/whylabs/whylogs/blob/mainline/python/examples/advanced/Streaming_Data_with_Log_Rotation.ipynb)\n",
    "\n",
    "Now that you've become family with the [\"Getting Started\"](https://github.com/whylabs/whylogs/blob/mainline/python/examples/basic/Getting_Started.ipynb) and the basic examples, let's see what else whylogs can be used for! So far, you've seen it ingest rows and dataframes during the logging process, but now let's look at ways to handle large amounts of changing data such as streaming with ... rolling logs! (sometimes also called log rotation)\n",
    "\n",
    "Instead of needing to plan out how you log in intervals with batching we handle all of that for you. The Logger will create your session, log information at the requested intervals of seconds, minutes, hours, or days and at that interval write out your profile to a .bin file and flush the log getting ready to receive more data."
   ],
   "metadata": {
    "collapsed": false,
    "pycharm": {
     "name": "#%% md\n"
    }
   }
  },
  {
   "cell_type": "markdown",
   "source": [
    "#### Why would you want this?\n",
    "Well, logging data throughout a given time period allows a higher grain of precision to your statistical profiles, and having these logs written regularly not only ensures their safety but also allows more options for merging profiles when it comes time for analysis. We'll go into that in depth in the [\"Merging Profiles\"](https://github.com/whylabs/whylogs/blob/9618e5dd6570bc484579ec1325f2f512ff56977f/python/examples/basic/Merging_Profiles.ipynb) notebook, but you can also see a simple example of it at the end of this notebook.\n",
    "\n",
    "We recommend that you have multiple intervals per timeline of your analysis. For example, if you want to look at the changes daily taking it at least hourly will help get a good profile estimation. Doing it too frequently where a profile may only have a couple lines is not preferred so play around with the balance that is right for your needs."
   ],
   "metadata": {
    "collapsed": false,
    "pycharm": {
     "name": "#%% md\n"
    }
   }
  },
  {
   "cell_type": "markdown",
   "source": [
    "## Simple Example using Bitcoin Ticker\n",
    "To start off, let's see how logging works; this will be an extremely basic example to show the syntax. We'll get data from BlockChain's ticker as this Jupyter notebook runs. To make you not wait for too long I'll have it run while constantly gathering data and rolling over the file every 20 seconds. This will give enough data for an example for the notebook without making you wait too long.\n",
    "\n",
    "The data picked is just a pull of the json API from the given website being used over time. This allows for easy streaming into a Jupyter that is quick and consistently changing, but in reality this is where you'd want to hook up your predictive models, larger data, CSV, etc."
   ],
   "metadata": {
    "collapsed": false,
    "pycharm": {
     "name": "#%% md\n"
    }
   }
  },
  {
   "cell_type": "markdown",
   "source": [
    "#### Imports\n",
    "First let's make sure we have everything installed and ready for input. We will be using the file structure to record the .bin files, and \"psutil\" to get the CPU information."
   ],
   "metadata": {
    "collapsed": false,
    "pycharm": {
     "name": "#%% md\n"
    }
   }
  },
  {
   "cell_type": "code",
   "execution_count": null,
   "outputs": [],
   "source": [
    "%pip install psutil;\n",
    "%pip install whylogs;"
   ],
   "metadata": {
    "collapsed": false,
    "pycharm": {
     "name": "#%%\n",
     "is_executing": true
    }
   }
  },
  {
   "cell_type": "code",
   "execution_count": 15,
   "outputs": [],
   "source": [
    "import os\n",
    "from os import listdir\n",
    "from os.path import isfile\n",
    "\n",
    "import pandas as pd\n",
    "import time;\n",
    "import datetime\n",
    "import whylogs as why\n",
    "\n",
    "tmp_path = os.path.join(os.getcwd(), \"example_output\")\n",
    "\n",
    "if not os.path.isdir(tmp_path):\n",
    "    os.makedirs(tmp_path)"
   ],
   "metadata": {
    "collapsed": false,
    "pycharm": {
     "name": "#%%\n"
    }
   }
  },
  {
   "cell_type": "markdown",
   "source": [
    "Here is a super simple function to see the amount of files that are here before and after the logging."
   ],
   "metadata": {
    "collapsed": false,
    "pycharm": {
     "name": "#%% md\n"
    }
   }
  },
  {
   "cell_type": "code",
   "execution_count": 5,
   "outputs": [
    {
     "name": "stdout",
     "output_type": "stream",
     "text": [
      "0\n"
     ]
    }
   ],
   "source": [
    "def count_files(tmp_path):\n",
    "    only_files = [f for f in listdir(tmp_path) if isfile(os.path.join(tmp_path, f))]\n",
    "    return len(only_files)\n",
    "\n",
    "print(count_files(tmp_path))"
   ],
   "metadata": {
    "collapsed": false,
    "pycharm": {
     "name": "#%%\n"
    }
   }
  },
  {
   "cell_type": "markdown",
   "source": [
    "Now it's on to the actual logging! We will first create the logger, mark it as \"rolling\", and set the interval in terms of Seconds, Minutes, Hours, or Days. Lastly we want to make sure we give it the base file name, and create a writer. For this example we will be using the local writer to put files on the local system. The following will be broken into two sections: **Production** and **Playground**.\n",
    "\n",
    "In **Production** you'll see code that is more in line with what you'd see in an every day environment. This will still need to be customized for your use case as the time period of a log is dependent on how often your data is pulled and how often you'll be observing. Although you're more than welcome to run this it will take quite a while as typically you'd be logging over a dedicated time span such as hours or days or further.\n",
    "\n",
    "In **Playground** you'll get to use our example at fast speed. This will be modified to run continuously. This is the best place to try things out and learn more about how the logging works.\n",
    "\n",
    "In both examples you'll see a `with` which enables your data to be written on exit even if it's not at the interval time.\n"
   ],
   "metadata": {
    "collapsed": false
   }
  },
  {
   "cell_type": "markdown",
   "source": [
    "## Data Set\n",
    "Alright, I know blockchain is big right now, but that's not why we picked it. We wanted to have an very fast, allows up ticker so the play ground could be messed with at any time of the day. This public data source allows us to do just that. Now you don't need to be a blockchain user or enthusiast at all. This ticker is just like the US stocks or Currency exchange, all it's doing is showing the exchange rate for certain type of bitcoin in USD.\n",
    "\n",
    "In your system this may look like ... what are the most common uses of whylogs right now?\n",
    "\n",
    "Please note, we don't do anything directly with block chains or bitcoins in any way."
   ],
   "metadata": {
    "collapsed": false,
    "pycharm": {
     "name": "#%% md\n"
    }
   }
  },
  {
   "cell_type": "code",
   "execution_count": null,
   "outputs": [],
   "source": [
    "# TODO: change this to be an iteratable to give the mocks\n",
    "def get_data(use_live=False):\n",
    "    data_df = None\n",
    "    if use_live: # This will pull live data\n",
    "        url = \"https://blockchain.info/ticker\"\n",
    "        data_df = pd.read_json(url)\n",
    "    else: # This pulls in our mock of the live data over time\n",
    "        pass\n",
    "    return data_df"
   ],
   "metadata": {
    "collapsed": false,
    "pycharm": {
     "name": "#%%\n"
    }
   }
  },
  {
   "cell_type": "markdown",
   "source": [
    "## Production Example\n",
    "This example will be more like what you'll see in an environment. Imagine we want to see our data **every day** you'll want to have at logs **every thirty**, but you don't want to roll the logger over withonly one data point, so we'd work with every 5 hours for instance.\n",
    "\n",
    "We'll use a mocked out data that was gathered every 5 min for 24 hours. We'll use the rolling log every hour."
   ],
   "metadata": {
    "collapsed": false,
    "pycharm": {
     "name": "#%% md\n"
    }
   }
  },
  {
   "cell_type": "code",
   "execution_count": 8,
   "outputs": [
    {
     "name": "stdout",
     "output_type": "stream",
     "text": [
      "Inputs Processed: 25     Dataset Files Written to Local: 2\n",
      "Inputs Processed: 50     Dataset Files Written to Local: 2\n",
      "Inputs Processed: 75     Dataset Files Written to Local: 2\n",
      "Inputs Processed: 100     Dataset Files Written to Local: 2\n",
      "Inputs Processed: 125     Dataset Files Written to Local: 2\n",
      "Inputs Processed: 150     Dataset Files Written to Local: 2\n"
     ]
    },
    {
     "ename": "KeyboardInterrupt",
     "evalue": "",
     "output_type": "error",
     "traceback": [
      "\u001B[0;31m---------------------------------------------------------------------------\u001B[0m",
      "\u001B[0;31mKeyboardInterrupt\u001B[0m                         Traceback (most recent call last)",
      "\u001B[0;32m/var/folders/l2/gclnndpj2bv1x_qyjts0c7tc0000gn/T/ipykernel_31676/963490213.py\u001B[0m in \u001B[0;36m<cell line: 3>\u001B[0;34m()\u001B[0m\n\u001B[1;32m     10\u001B[0m         \u001B[0minput_logged\u001B[0m \u001B[0;34m+=\u001B[0m \u001B[0;36m1\u001B[0m\u001B[0;34m\u001B[0m\u001B[0;34m\u001B[0m\u001B[0m\n\u001B[1;32m     11\u001B[0m         \u001B[0mbitcoin_ticker_df\u001B[0m \u001B[0;34m=\u001B[0m \u001B[0mpd\u001B[0m\u001B[0;34m.\u001B[0m\u001B[0mread_json\u001B[0m\u001B[0;34m(\u001B[0m\u001B[0murl\u001B[0m\u001B[0;34m)\u001B[0m\u001B[0;34m\u001B[0m\u001B[0;34m\u001B[0m\u001B[0m\n\u001B[0;32m---> 12\u001B[0;31m         \u001B[0mlogger\u001B[0m\u001B[0;34m.\u001B[0m\u001B[0mlog\u001B[0m\u001B[0;34m(\u001B[0m\u001B[0mbitcoin_ticker_df\u001B[0m\u001B[0;34m)\u001B[0m\u001B[0;34m\u001B[0m\u001B[0;34m\u001B[0m\u001B[0m\n\u001B[0m\u001B[1;32m     13\u001B[0m         \u001B[0;32mif\u001B[0m \u001B[0minput_logged\u001B[0m \u001B[0;34m%\u001B[0m \u001B[0;36m25\u001B[0m \u001B[0;34m==\u001B[0m \u001B[0;36m0\u001B[0m\u001B[0;34m:\u001B[0m\u001B[0;34m\u001B[0m\u001B[0;34m\u001B[0m\u001B[0m\n\u001B[1;32m     14\u001B[0m             print(\"Inputs Processed: \" + str(input_logged) +\n",
      "\u001B[0;32m~/Dev/whylogs/python/whylogs/api/logger/logger.py\u001B[0m in \u001B[0;36mlog\u001B[0;34m(self, obj, pandas, row)\u001B[0m\n\u001B[1;32m     66\u001B[0m \u001B[0;34m\u001B[0m\u001B[0m\n\u001B[1;32m     67\u001B[0m         \u001B[0;32mfor\u001B[0m \u001B[0mprof\u001B[0m \u001B[0;32min\u001B[0m \u001B[0mprofiles\u001B[0m\u001B[0;34m:\u001B[0m\u001B[0;34m\u001B[0m\u001B[0;34m\u001B[0m\u001B[0m\n\u001B[0;32m---> 68\u001B[0;31m             \u001B[0mprof\u001B[0m\u001B[0;34m.\u001B[0m\u001B[0mtrack\u001B[0m\u001B[0;34m(\u001B[0m\u001B[0mobj\u001B[0m\u001B[0;34m,\u001B[0m \u001B[0mpandas\u001B[0m\u001B[0;34m=\u001B[0m\u001B[0mpandas\u001B[0m\u001B[0;34m,\u001B[0m \u001B[0mrow\u001B[0m\u001B[0;34m=\u001B[0m\u001B[0mrow\u001B[0m\u001B[0;34m)\u001B[0m\u001B[0;34m\u001B[0m\u001B[0;34m\u001B[0m\u001B[0m\n\u001B[0m\u001B[1;32m     69\u001B[0m \u001B[0;34m\u001B[0m\u001B[0m\n\u001B[1;32m     70\u001B[0m         \u001B[0;32mreturn\u001B[0m \u001B[0mProfileResultSet\u001B[0m\u001B[0;34m(\u001B[0m\u001B[0mprofiles\u001B[0m\u001B[0;34m[\u001B[0m\u001B[0;36m0\u001B[0m\u001B[0;34m]\u001B[0m\u001B[0;34m)\u001B[0m\u001B[0;34m\u001B[0m\u001B[0;34m\u001B[0m\u001B[0m\n",
      "\u001B[0;32m~/Dev/whylogs/python/whylogs/core/dataset_profile.py\u001B[0m in \u001B[0;36mtrack\u001B[0;34m(self, obj, pandas, row)\u001B[0m\n\u001B[1;32m     81\u001B[0m             \u001B[0mself\u001B[0m\u001B[0;34m.\u001B[0m\u001B[0m_is_active\u001B[0m \u001B[0;34m=\u001B[0m \u001B[0;32mTrue\u001B[0m\u001B[0;34m\u001B[0m\u001B[0;34m\u001B[0m\u001B[0m\n\u001B[1;32m     82\u001B[0m             \u001B[0mself\u001B[0m\u001B[0;34m.\u001B[0m\u001B[0m_track_count\u001B[0m \u001B[0;34m+=\u001B[0m \u001B[0;36m1\u001B[0m\u001B[0;34m\u001B[0m\u001B[0;34m\u001B[0m\u001B[0m\n\u001B[0;32m---> 83\u001B[0;31m             \u001B[0mself\u001B[0m\u001B[0;34m.\u001B[0m\u001B[0m_do_track\u001B[0m\u001B[0;34m(\u001B[0m\u001B[0mobj\u001B[0m\u001B[0;34m,\u001B[0m \u001B[0mpandas\u001B[0m\u001B[0;34m=\u001B[0m\u001B[0mpandas\u001B[0m\u001B[0;34m,\u001B[0m \u001B[0mrow\u001B[0m\u001B[0;34m=\u001B[0m\u001B[0mrow\u001B[0m\u001B[0;34m)\u001B[0m\u001B[0;34m\u001B[0m\u001B[0;34m\u001B[0m\u001B[0m\n\u001B[0m\u001B[1;32m     84\u001B[0m         \u001B[0;32mfinally\u001B[0m\u001B[0;34m:\u001B[0m\u001B[0;34m\u001B[0m\u001B[0;34m\u001B[0m\u001B[0m\n\u001B[1;32m     85\u001B[0m             \u001B[0mself\u001B[0m\u001B[0;34m.\u001B[0m\u001B[0m_is_active\u001B[0m \u001B[0;34m=\u001B[0m \u001B[0;32mFalse\u001B[0m\u001B[0;34m\u001B[0m\u001B[0;34m\u001B[0m\u001B[0m\n",
      "\u001B[0;32m~/Dev/whylogs/python/whylogs/core/dataset_profile.py\u001B[0m in \u001B[0;36m_do_track\u001B[0;34m(self, obj, pandas, row)\u001B[0m\n\u001B[1;32m    119\u001B[0m         \u001B[0;32mif\u001B[0m \u001B[0mpandas\u001B[0m \u001B[0;32mis\u001B[0m \u001B[0;32mnot\u001B[0m \u001B[0;32mNone\u001B[0m\u001B[0;34m:\u001B[0m\u001B[0;34m\u001B[0m\u001B[0;34m\u001B[0m\u001B[0m\n\u001B[1;32m    120\u001B[0m             \u001B[0;32mfor\u001B[0m \u001B[0mk\u001B[0m \u001B[0;32min\u001B[0m \u001B[0mpandas\u001B[0m\u001B[0;34m.\u001B[0m\u001B[0mkeys\u001B[0m\u001B[0;34m(\u001B[0m\u001B[0;34m)\u001B[0m\u001B[0;34m:\u001B[0m\u001B[0;34m\u001B[0m\u001B[0;34m\u001B[0m\u001B[0m\n\u001B[0;32m--> 121\u001B[0;31m                 \u001B[0mself\u001B[0m\u001B[0;34m.\u001B[0m\u001B[0m_columns\u001B[0m\u001B[0;34m[\u001B[0m\u001B[0mk\u001B[0m\u001B[0;34m]\u001B[0m\u001B[0;34m.\u001B[0m\u001B[0mtrack_column\u001B[0m\u001B[0;34m(\u001B[0m\u001B[0mpandas\u001B[0m\u001B[0;34m[\u001B[0m\u001B[0mk\u001B[0m\u001B[0;34m]\u001B[0m\u001B[0;34m)\u001B[0m\u001B[0;34m\u001B[0m\u001B[0;34m\u001B[0m\u001B[0m\n\u001B[0m\u001B[1;32m    122\u001B[0m             \u001B[0;32mreturn\u001B[0m\u001B[0;34m\u001B[0m\u001B[0;34m\u001B[0m\u001B[0m\n\u001B[1;32m    123\u001B[0m \u001B[0;34m\u001B[0m\u001B[0m\n",
      "\u001B[0;32m~/Dev/whylogs/python/whylogs/core/column_profile.py\u001B[0m in \u001B[0;36mtrack_column\u001B[0;34m(self, series)\u001B[0m\n\u001B[1;32m     43\u001B[0m \u001B[0;34m\u001B[0m\u001B[0m\n\u001B[1;32m     44\u001B[0m     \u001B[0;32mdef\u001B[0m \u001B[0mtrack_column\u001B[0m\u001B[0;34m(\u001B[0m\u001B[0mself\u001B[0m\u001B[0;34m,\u001B[0m \u001B[0mseries\u001B[0m\u001B[0;34m:\u001B[0m \u001B[0mAny\u001B[0m\u001B[0;34m)\u001B[0m \u001B[0;34m->\u001B[0m \u001B[0;32mNone\u001B[0m\u001B[0;34m:\u001B[0m\u001B[0;34m\u001B[0m\u001B[0;34m\u001B[0m\u001B[0m\n\u001B[0;32m---> 45\u001B[0;31m         \u001B[0mex_col\u001B[0m \u001B[0;34m=\u001B[0m \u001B[0mPreprocessedColumn\u001B[0m\u001B[0;34m.\u001B[0m\u001B[0mapply\u001B[0m\u001B[0;34m(\u001B[0m\u001B[0mseries\u001B[0m\u001B[0;34m)\u001B[0m\u001B[0;34m\u001B[0m\u001B[0;34m\u001B[0m\u001B[0m\n\u001B[0m\u001B[1;32m     46\u001B[0m         \u001B[0;32mfor\u001B[0m \u001B[0mmetric\u001B[0m \u001B[0;32min\u001B[0m \u001B[0mself\u001B[0m\u001B[0;34m.\u001B[0m\u001B[0m_metrics\u001B[0m\u001B[0;34m.\u001B[0m\u001B[0mvalues\u001B[0m\u001B[0;34m(\u001B[0m\u001B[0;34m)\u001B[0m\u001B[0;34m:\u001B[0m\u001B[0;34m\u001B[0m\u001B[0;34m\u001B[0m\u001B[0m\n\u001B[1;32m     47\u001B[0m             \u001B[0mres\u001B[0m \u001B[0;34m=\u001B[0m \u001B[0mmetric\u001B[0m\u001B[0;34m.\u001B[0m\u001B[0mcolumnar_update\u001B[0m\u001B[0;34m(\u001B[0m\u001B[0mex_col\u001B[0m\u001B[0;34m)\u001B[0m\u001B[0;34m\u001B[0m\u001B[0;34m\u001B[0m\u001B[0m\n",
      "\u001B[0;32m~/Dev/whylogs/python/whylogs/core/preprocessing.py\u001B[0m in \u001B[0;36mapply\u001B[0;34m(data)\u001B[0m\n\u001B[1;32m    162\u001B[0m         \u001B[0mresult\u001B[0m\u001B[0;34m.\u001B[0m\u001B[0moriginal\u001B[0m \u001B[0;34m=\u001B[0m \u001B[0mdata\u001B[0m\u001B[0;34m\u001B[0m\u001B[0;34m\u001B[0m\u001B[0m\n\u001B[1;32m    163\u001B[0m         \u001B[0;32mif\u001B[0m \u001B[0misinstance\u001B[0m\u001B[0;34m(\u001B[0m\u001B[0mdata\u001B[0m\u001B[0;34m,\u001B[0m \u001B[0mpd\u001B[0m\u001B[0;34m.\u001B[0m\u001B[0mSeries\u001B[0m\u001B[0;34m)\u001B[0m\u001B[0;34m:\u001B[0m\u001B[0;34m\u001B[0m\u001B[0;34m\u001B[0m\u001B[0m\n\u001B[0;32m--> 164\u001B[0;31m             \u001B[0mresult\u001B[0m\u001B[0;34m.\u001B[0m\u001B[0m_pandas_split\u001B[0m\u001B[0;34m(\u001B[0m\u001B[0mdata\u001B[0m\u001B[0;34m)\u001B[0m\u001B[0;34m\u001B[0m\u001B[0;34m\u001B[0m\u001B[0m\n\u001B[0m\u001B[1;32m    165\u001B[0m             \u001B[0mresult\u001B[0m\u001B[0;34m.\u001B[0m\u001B[0mlen\u001B[0m \u001B[0;34m=\u001B[0m \u001B[0mlen\u001B[0m\u001B[0;34m(\u001B[0m\u001B[0mdata\u001B[0m\u001B[0;34m)\u001B[0m\u001B[0;34m\u001B[0m\u001B[0;34m\u001B[0m\u001B[0m\n\u001B[1;32m    166\u001B[0m             \u001B[0;32mreturn\u001B[0m \u001B[0mresult\u001B[0m\u001B[0;34m\u001B[0m\u001B[0;34m\u001B[0m\u001B[0m\n",
      "\u001B[0;32m~/Dev/whylogs/python/whylogs/core/preprocessing.py\u001B[0m in \u001B[0;36m_pandas_split\u001B[0;34m(self, series, parse_numeric_string)\u001B[0m\n\u001B[1;32m    133\u001B[0m         \u001B[0mbool_mask\u001B[0m \u001B[0;34m=\u001B[0m \u001B[0mnon_null_series\u001B[0m\u001B[0;34m.\u001B[0m\u001B[0mapply\u001B[0m\u001B[0;34m(\u001B[0m\u001B[0;32mlambda\u001B[0m \u001B[0mx\u001B[0m\u001B[0;34m:\u001B[0m \u001B[0mpdc\u001B[0m\u001B[0;34m.\u001B[0m\u001B[0mis_bool\u001B[0m\u001B[0;34m(\u001B[0m\u001B[0mx\u001B[0m\u001B[0;34m)\u001B[0m\u001B[0;34m)\u001B[0m\u001B[0;34m\u001B[0m\u001B[0;34m\u001B[0m\u001B[0m\n\u001B[1;32m    134\u001B[0m         \u001B[0mbool_mask_where_true\u001B[0m \u001B[0;34m=\u001B[0m \u001B[0mnon_null_series\u001B[0m\u001B[0;34m.\u001B[0m\u001B[0mapply\u001B[0m\u001B[0;34m(\u001B[0m\u001B[0;32mlambda\u001B[0m \u001B[0mx\u001B[0m\u001B[0;34m:\u001B[0m \u001B[0mpdc\u001B[0m\u001B[0;34m.\u001B[0m\u001B[0mis_bool\u001B[0m\u001B[0;34m(\u001B[0m\u001B[0mx\u001B[0m\u001B[0;34m)\u001B[0m \u001B[0;32mand\u001B[0m \u001B[0mx\u001B[0m\u001B[0;34m)\u001B[0m\u001B[0;34m\u001B[0m\u001B[0;34m\u001B[0m\u001B[0m\n\u001B[0;32m--> 135\u001B[0;31m         \u001B[0mint_mask\u001B[0m \u001B[0;34m=\u001B[0m \u001B[0mnon_null_series\u001B[0m\u001B[0;34m.\u001B[0m\u001B[0mapply\u001B[0m\u001B[0;34m(\u001B[0m\u001B[0;32mlambda\u001B[0m \u001B[0mx\u001B[0m\u001B[0;34m:\u001B[0m \u001B[0mpdc\u001B[0m\u001B[0;34m.\u001B[0m\u001B[0mis_number\u001B[0m\u001B[0;34m(\u001B[0m\u001B[0mx\u001B[0m\u001B[0;34m)\u001B[0m \u001B[0;32mand\u001B[0m \u001B[0mpdc\u001B[0m\u001B[0;34m.\u001B[0m\u001B[0mis_integer\u001B[0m\u001B[0;34m(\u001B[0m\u001B[0mx\u001B[0m\u001B[0;34m)\u001B[0m \u001B[0;32mand\u001B[0m \u001B[0;32mnot\u001B[0m \u001B[0mpdc\u001B[0m\u001B[0;34m.\u001B[0m\u001B[0mis_bool\u001B[0m\u001B[0;34m(\u001B[0m\u001B[0mx\u001B[0m\u001B[0;34m)\u001B[0m\u001B[0;34m)\u001B[0m\u001B[0;34m\u001B[0m\u001B[0;34m\u001B[0m\u001B[0m\n\u001B[0m\u001B[1;32m    136\u001B[0m         \u001B[0mstr_mask\u001B[0m \u001B[0;34m=\u001B[0m \u001B[0mnon_null_series\u001B[0m\u001B[0;34m.\u001B[0m\u001B[0mapply\u001B[0m\u001B[0;34m(\u001B[0m\u001B[0;32mlambda\u001B[0m \u001B[0mx\u001B[0m\u001B[0;34m:\u001B[0m \u001B[0misinstance\u001B[0m\u001B[0;34m(\u001B[0m\u001B[0mx\u001B[0m\u001B[0;34m,\u001B[0m \u001B[0mstr\u001B[0m\u001B[0;34m)\u001B[0m\u001B[0;34m)\u001B[0m\u001B[0;34m\u001B[0m\u001B[0;34m\u001B[0m\u001B[0m\n\u001B[1;32m    137\u001B[0m \u001B[0;34m\u001B[0m\u001B[0m\n",
      "\u001B[0;32m~/Dev/whylogs-v1/python/.venv/lib/python3.9/site-packages/pandas/core/series.py\u001B[0m in \u001B[0;36mapply\u001B[0;34m(self, func, convert_dtype, args, **kwargs)\u001B[0m\n\u001B[1;32m   4355\u001B[0m         \u001B[0mdtype\u001B[0m\u001B[0;34m:\u001B[0m \u001B[0mfloat64\u001B[0m\u001B[0;34m\u001B[0m\u001B[0;34m\u001B[0m\u001B[0m\n\u001B[1;32m   4356\u001B[0m         \"\"\"\n\u001B[0;32m-> 4357\u001B[0;31m         \u001B[0;32mreturn\u001B[0m \u001B[0mSeriesApply\u001B[0m\u001B[0;34m(\u001B[0m\u001B[0mself\u001B[0m\u001B[0;34m,\u001B[0m \u001B[0mfunc\u001B[0m\u001B[0;34m,\u001B[0m \u001B[0mconvert_dtype\u001B[0m\u001B[0;34m,\u001B[0m \u001B[0margs\u001B[0m\u001B[0;34m,\u001B[0m \u001B[0mkwargs\u001B[0m\u001B[0;34m)\u001B[0m\u001B[0;34m.\u001B[0m\u001B[0mapply\u001B[0m\u001B[0;34m(\u001B[0m\u001B[0;34m)\u001B[0m\u001B[0;34m\u001B[0m\u001B[0;34m\u001B[0m\u001B[0m\n\u001B[0m\u001B[1;32m   4358\u001B[0m \u001B[0;34m\u001B[0m\u001B[0m\n\u001B[1;32m   4359\u001B[0m     def _reduce(\n",
      "\u001B[0;32m~/Dev/whylogs-v1/python/.venv/lib/python3.9/site-packages/pandas/core/apply.py\u001B[0m in \u001B[0;36mapply\u001B[0;34m(self)\u001B[0m\n\u001B[1;32m   1041\u001B[0m             \u001B[0;32mreturn\u001B[0m \u001B[0mself\u001B[0m\u001B[0;34m.\u001B[0m\u001B[0mapply_str\u001B[0m\u001B[0;34m(\u001B[0m\u001B[0;34m)\u001B[0m\u001B[0;34m\u001B[0m\u001B[0;34m\u001B[0m\u001B[0m\n\u001B[1;32m   1042\u001B[0m \u001B[0;34m\u001B[0m\u001B[0m\n\u001B[0;32m-> 1043\u001B[0;31m         \u001B[0;32mreturn\u001B[0m \u001B[0mself\u001B[0m\u001B[0;34m.\u001B[0m\u001B[0mapply_standard\u001B[0m\u001B[0;34m(\u001B[0m\u001B[0;34m)\u001B[0m\u001B[0;34m\u001B[0m\u001B[0;34m\u001B[0m\u001B[0m\n\u001B[0m\u001B[1;32m   1044\u001B[0m \u001B[0;34m\u001B[0m\u001B[0m\n\u001B[1;32m   1045\u001B[0m     \u001B[0;32mdef\u001B[0m \u001B[0magg\u001B[0m\u001B[0;34m(\u001B[0m\u001B[0mself\u001B[0m\u001B[0;34m)\u001B[0m\u001B[0;34m:\u001B[0m\u001B[0;34m\u001B[0m\u001B[0;34m\u001B[0m\u001B[0m\n",
      "\u001B[0;32m~/Dev/whylogs-v1/python/.venv/lib/python3.9/site-packages/pandas/core/apply.py\u001B[0m in \u001B[0;36mapply_standard\u001B[0;34m(self)\u001B[0m\n\u001B[1;32m   1107\u001B[0m             \u001B[0;32mreturn\u001B[0m \u001B[0mobj\u001B[0m\u001B[0;34m.\u001B[0m\u001B[0m_constructor_expanddim\u001B[0m\u001B[0;34m(\u001B[0m\u001B[0mpd_array\u001B[0m\u001B[0;34m(\u001B[0m\u001B[0mmapped\u001B[0m\u001B[0;34m)\u001B[0m\u001B[0;34m,\u001B[0m \u001B[0mindex\u001B[0m\u001B[0;34m=\u001B[0m\u001B[0mobj\u001B[0m\u001B[0;34m.\u001B[0m\u001B[0mindex\u001B[0m\u001B[0;34m)\u001B[0m\u001B[0;34m\u001B[0m\u001B[0;34m\u001B[0m\u001B[0m\n\u001B[1;32m   1108\u001B[0m         \u001B[0;32melse\u001B[0m\u001B[0;34m:\u001B[0m\u001B[0;34m\u001B[0m\u001B[0;34m\u001B[0m\u001B[0m\n\u001B[0;32m-> 1109\u001B[0;31m             return obj._constructor(mapped, index=obj.index).__finalize__(\n\u001B[0m\u001B[1;32m   1110\u001B[0m                 \u001B[0mobj\u001B[0m\u001B[0;34m,\u001B[0m \u001B[0mmethod\u001B[0m\u001B[0;34m=\u001B[0m\u001B[0;34m\"apply\"\u001B[0m\u001B[0;34m\u001B[0m\u001B[0;34m\u001B[0m\u001B[0m\n\u001B[1;32m   1111\u001B[0m             )\n",
      "\u001B[0;32m~/Dev/whylogs-v1/python/.venv/lib/python3.9/site-packages/pandas/core/series.py\u001B[0m in \u001B[0;36m__init__\u001B[0;34m(self, data, index, dtype, name, copy, fastpath)\u001B[0m\n\u001B[1;32m    446\u001B[0m \u001B[0;34m\u001B[0m\u001B[0m\n\u001B[1;32m    447\u001B[0m         \u001B[0mgeneric\u001B[0m\u001B[0;34m.\u001B[0m\u001B[0mNDFrame\u001B[0m\u001B[0;34m.\u001B[0m\u001B[0m__init__\u001B[0m\u001B[0;34m(\u001B[0m\u001B[0mself\u001B[0m\u001B[0;34m,\u001B[0m \u001B[0mdata\u001B[0m\u001B[0;34m)\u001B[0m\u001B[0;34m\u001B[0m\u001B[0;34m\u001B[0m\u001B[0m\n\u001B[0;32m--> 448\u001B[0;31m         \u001B[0mself\u001B[0m\u001B[0;34m.\u001B[0m\u001B[0mname\u001B[0m \u001B[0;34m=\u001B[0m \u001B[0mname\u001B[0m\u001B[0;34m\u001B[0m\u001B[0;34m\u001B[0m\u001B[0m\n\u001B[0m\u001B[1;32m    449\u001B[0m         \u001B[0mself\u001B[0m\u001B[0;34m.\u001B[0m\u001B[0m_set_axis\u001B[0m\u001B[0;34m(\u001B[0m\u001B[0;36m0\u001B[0m\u001B[0;34m,\u001B[0m \u001B[0mindex\u001B[0m\u001B[0;34m,\u001B[0m \u001B[0mfastpath\u001B[0m\u001B[0;34m=\u001B[0m\u001B[0;32mTrue\u001B[0m\u001B[0;34m)\u001B[0m\u001B[0;34m\u001B[0m\u001B[0;34m\u001B[0m\u001B[0m\n\u001B[1;32m    450\u001B[0m \u001B[0;34m\u001B[0m\u001B[0m\n",
      "\u001B[0;32m~/Dev/whylogs-v1/python/.venv/lib/python3.9/site-packages/pandas/core/generic.py\u001B[0m in \u001B[0;36m__setattr__\u001B[0;34m(self, name, value)\u001B[0m\n\u001B[1;32m   5497\u001B[0m \u001B[0;34m\u001B[0m\u001B[0m\n\u001B[1;32m   5498\u001B[0m         \u001B[0;32mtry\u001B[0m\u001B[0;34m:\u001B[0m\u001B[0;34m\u001B[0m\u001B[0;34m\u001B[0m\u001B[0m\n\u001B[0;32m-> 5499\u001B[0;31m             \u001B[0mobject\u001B[0m\u001B[0;34m.\u001B[0m\u001B[0m__getattribute__\u001B[0m\u001B[0;34m(\u001B[0m\u001B[0mself\u001B[0m\u001B[0;34m,\u001B[0m \u001B[0mname\u001B[0m\u001B[0;34m)\u001B[0m\u001B[0;34m\u001B[0m\u001B[0;34m\u001B[0m\u001B[0m\n\u001B[0m\u001B[1;32m   5500\u001B[0m             \u001B[0;32mreturn\u001B[0m \u001B[0mobject\u001B[0m\u001B[0;34m.\u001B[0m\u001B[0m__setattr__\u001B[0m\u001B[0;34m(\u001B[0m\u001B[0mself\u001B[0m\u001B[0;34m,\u001B[0m \u001B[0mname\u001B[0m\u001B[0;34m,\u001B[0m \u001B[0mvalue\u001B[0m\u001B[0;34m)\u001B[0m\u001B[0;34m\u001B[0m\u001B[0;34m\u001B[0m\u001B[0m\n\u001B[1;32m   5501\u001B[0m         \u001B[0;32mexcept\u001B[0m \u001B[0mAttributeError\u001B[0m\u001B[0;34m:\u001B[0m\u001B[0;34m\u001B[0m\u001B[0;34m\u001B[0m\u001B[0m\n",
      "\u001B[0;32m~/Dev/whylogs-v1/python/.venv/lib/python3.9/site-packages/pandas/core/series.py\u001B[0m in \u001B[0;36mname\u001B[0;34m(self)\u001B[0m\n\u001B[1;32m    623\u001B[0m         \u001B[0;34m'Even Numbers'\u001B[0m\u001B[0;34m\u001B[0m\u001B[0;34m\u001B[0m\u001B[0m\n\u001B[1;32m    624\u001B[0m         \"\"\"\n\u001B[0;32m--> 625\u001B[0;31m         \u001B[0;32mreturn\u001B[0m \u001B[0mself\u001B[0m\u001B[0;34m.\u001B[0m\u001B[0m_name\u001B[0m\u001B[0;34m\u001B[0m\u001B[0;34m\u001B[0m\u001B[0m\n\u001B[0m\u001B[1;32m    626\u001B[0m \u001B[0;34m\u001B[0m\u001B[0m\n\u001B[1;32m    627\u001B[0m     \u001B[0;34m@\u001B[0m\u001B[0mname\u001B[0m\u001B[0;34m.\u001B[0m\u001B[0msetter\u001B[0m\u001B[0;34m\u001B[0m\u001B[0;34m\u001B[0m\u001B[0m\n",
      "\u001B[0;32m~/Dev/whylogs-v1/python/.venv/lib/python3.9/site-packages/pandas/core/generic.py\u001B[0m in \u001B[0;36m__getattr__\u001B[0;34m(self, name)\u001B[0m\n\u001B[1;32m   5471\u001B[0m         \u001B[0;32mreturn\u001B[0m \u001B[0mself\u001B[0m\u001B[0;34m\u001B[0m\u001B[0;34m\u001B[0m\u001B[0m\n\u001B[1;32m   5472\u001B[0m \u001B[0;34m\u001B[0m\u001B[0m\n\u001B[0;32m-> 5473\u001B[0;31m     \u001B[0;32mdef\u001B[0m \u001B[0m__getattr__\u001B[0m\u001B[0;34m(\u001B[0m\u001B[0mself\u001B[0m\u001B[0;34m,\u001B[0m \u001B[0mname\u001B[0m\u001B[0;34m:\u001B[0m \u001B[0mstr\u001B[0m\u001B[0;34m)\u001B[0m\u001B[0;34m:\u001B[0m\u001B[0;34m\u001B[0m\u001B[0;34m\u001B[0m\u001B[0m\n\u001B[0m\u001B[1;32m   5474\u001B[0m         \"\"\"\n\u001B[1;32m   5475\u001B[0m         \u001B[0mAfter\u001B[0m \u001B[0mregular\u001B[0m \u001B[0mattribute\u001B[0m \u001B[0maccess\u001B[0m\u001B[0;34m,\u001B[0m \u001B[0;32mtry\u001B[0m \u001B[0mlooking\u001B[0m \u001B[0mup\u001B[0m \u001B[0mthe\u001B[0m \u001B[0mname\u001B[0m\u001B[0;34m\u001B[0m\u001B[0;34m\u001B[0m\u001B[0m\n",
      "\u001B[0;31mKeyboardInterrupt\u001B[0m: "
     ]
    }
   ],
   "source": [
    "# Using `with` means on exit the data will be saved despite it not being the interval time\n",
    "with why.logger(mode=\"rolling\", interval=1, when=\"H\", base_name=\"bitcoin_profile_\" + str(datetime.datetime.now)) as logger:\n",
    "    logger.append_writer(\"local\", base_dir=tmp_path)        # write to our local path, there are other writers though\n",
    "    dataset_logged=0        # this is simple for our logging\n",
    "\n",
    "    data_df = get_data()    # use a util to get the data\n",
    "    logger.log(data_df)     # log it into our data set profile\n",
    "\n",
    "    # We are printing the log to stdout for the example, substitute how you work with logging\n",
    "    dataset_logged += 1\n",
    "    print(\"Inputs Processed: \" + str(dataset_logged) +\n",
    "          \"    Dataset Files Written to Local: \" + str(count_files(tmp_path)))\n",
    "\n",
    "    time.sleep(300)         # sleeps for 5 min before pulling data again"
   ],
   "metadata": {
    "collapsed": false,
    "pycharm": {
     "name": "#%%\n"
    }
   }
  },
  {
   "cell_type": "markdown",
   "source": [
    "## Play Ground\n",
    "Now on to the play ground! Like mentioned earlier, this is a modified version that will run continously allowing for quick results. This one is fun to play with. Change the interval, try out what happens. This is also surrounded by a limiting funciton so it will stop after a certain number of logs. This is only to make it easier in Jupyter; change it!\n",
    "\n",
    "The data this is getting is set to live, but you are also welcome to get our moc data which is from every data gathered every 5 min for 24 horus."
   ],
   "metadata": {
    "collapsed": false,
    "pycharm": {
     "name": "#%% md\n"
    }
   }
  },
  {
   "cell_type": "code",
   "execution_count": null,
   "outputs": [],
   "source": [
    "# Using `with` means on exit the data will be saved despite it not being the interval time\n",
    "with why.logger(mode=\"rolling\", interval=30, when=\"S\", base_name=\"bitcoin_profile_p\" + str(datetime.datetime.now)) as logger:\n",
    "    logger.append_writer(\"local\", base_dir=tmp_path)         # write to our local path, there are other writers though\n",
    "    dataset_logged=0\n",
    "\n",
    "    while dataset_logged < 1000:            # limits to 1000 for easy examples, but change it up!\n",
    "        dataset_logged += 1\n",
    "        data_df = get_data(use_live=True)       # set to using live data\n",
    "        logger.log(data_df)\n",
    "        if dataset_logged % 25 == 0:\n",
    "            print(\"Inputs Processed: \" + str(dataset_logged) +\n",
    "              \"     Dataset Files Written to Local: \" + str(count_files(tmp_path)))\n",
    "        time.sleep(0)       # continuous for easy play, but change it up!"
   ],
   "metadata": {
    "collapsed": false,
    "pycharm": {
     "name": "#%%\n"
    }
   }
  },
  {
   "cell_type": "markdown",
   "source": [
    "## Next steps - the .bin\n",
    "Congrats! Now you've got data safely stored away, but what exactly are these .bin files? As you are logging datasets the session tracks many inputs (done through `why.log()`) into a dataset profile. When we use the rolling logger it will write out the dataset profile to the .bin then flush it to start logging again. This allows you to have that data safely stored in an incremental fashion which you can then merge back together as one piece, individually, or any number.\n",
    "\n",
    "For example let's bring up the just one of the files to see what's in it."
   ],
   "metadata": {
    "collapsed": false,
    "pycharm": {
     "name": "#%% md\n"
    }
   }
  },
  {
   "cell_type": "code",
   "execution_count": 10,
   "outputs": [
    {
     "data": {
      "text/plain": "        types/integral  types/fractional  types/boolean  types/string  \\\ncolumn                                                                  \nARS                  0               652              0           163   \nAUD                  0               652              0           163   \nBRL                  0               652              0           163   \nCAD                  0               652              0           163   \nCHF                  0               652              0           163   \nCLP                  0               652              0           163   \nCNY                  0               652              0           163   \nCZK                  0               652              0           163   \nDKK                  0               652              0           163   \nEUR                  0               652              0           163   \nGBP                  0               652              0           163   \nHKD                  0               652              0           163   \nHRK                  0               652              0           163   \nHUF                  0               652              0           163   \nINR                  0               652              0           163   \nISK                  0               652              0           163   \nJPY                  0               652              0           163   \nKRW                  0               652              0           163   \nNZD                  0               652              0           163   \nPLN                  0               652              0           163   \nRON                  0               652              0           163   \nRUB                  0               652              0           163   \nSEK                  0               652              0           163   \nSGD                  0               648              0           162   \nTHB                  0               648              0           162   \nTRY                  0               648              0           162   \nTWD                  0               648              0           162   \nUSD                  0               648              0           162   \n\n        types/object  counts/n  counts/null  \\\ncolumn                                        \nARS                0       815            0   \nAUD                0       815            0   \nBRL                0       815            0   \nCAD                0       815            0   \nCHF                0       815            0   \nCLP                0       815            0   \nCNY                0       815            0   \nCZK                0       815            0   \nDKK                0       815            0   \nEUR                0       815            0   \nGBP                0       815            0   \nHKD                0       815            0   \nHRK                0       815            0   \nHUF                0       815            0   \nINR                0       815            0   \nISK                0       815            0   \nJPY                0       815            0   \nKRW                0       815            0   \nNZD                0       815            0   \nPLN                0       815            0   \nRON                0       815            0   \nRUB                0       815            0   \nSEK                0       815            0   \nSGD                0       810            0   \nTHB                0       810            0   \nTRY                0       810            0   \nTWD                0       810            0   \nUSD                0       810            0   \n\n                          frequent_items/frequent_strings  cardinality/est  \\\ncolumn                                                                       \nARS     [FrequentItem(value='4818920.680000', est=652,...              2.0   \nAUD     [FrequentItem(value='29368.890000', est=652, u...              2.0   \nBRL     [FrequentItem(value='106313.070000', est=652, ...              2.0   \nCAD     [FrequentItem(value='26768.750000', est=652, u...              2.0   \nCHF     [FrequentItem(value='19943.030000', est=652, u...              2.0   \nCLP     [FrequentItem(value='18140556.340000', est=652...              2.0   \nCNY     [FrequentItem(value='209945.680000', est=652, ...              2.0   \nCZK     [FrequentItem(value='492436.890000', est=652, ...              2.0   \nDKK     [FrequentItem(value='160250.110000', est=652, ...              2.0   \nEUR     [FrequentItem(value='19629.200000', est=652, u...              2.0   \nGBP     [FrequentItem(value='16749.860000', est=652, u...              2.0   \nHKD     [FrequentItem(value='162177.250000', est=652, ...              2.0   \nHRK     [FrequentItem(value='158181.680000', est=652, ...              2.0   \nHUF     [FrequentItem(value='8426338.970000', est=652,...              2.0   \nINR     [FrequentItem(value='1606321.740000', est=652,...              2.0   \nISK     [FrequentItem(value='5804783.710000', est=652,...              2.0   \nJPY     [FrequentItem(value='2742175.440000', est=652,...              2.0   \nKRW     [FrequentItem(value='27191424.130000', est=652...              2.0   \nNZD     [FrequentItem(value='32529.620000', est=652, u...              2.0   \nPLN     [FrequentItem(value='93091.290000', est=652, u...              2.0   \nRON     [FrequentItem(value='79683.290000', est=652, u...              2.0   \nRUB     [FrequentItem(value='1193795.950000', est=652,...              2.0   \nSEK     [FrequentItem(value='235472.430000', est=652, ...              2.0   \nSGD     [FrequentItem(value='28425.310000', est=648, u...              2.0   \nTHB     [FrequentItem(value='725189.590000', est=648, ...              2.0   \nTRY     [FrequentItem(value='362076.650000', est=648, ...              2.0   \nTWD     [FrequentItem(value='22285617.340000', est=648...              2.0   \nUSD     [FrequentItem(value='20702.830000', est=648, u...              2.0   \n\n        cardinality/upper_1  cardinality/lower_1                type  \ncolumn                                                                \nARS                  2.0001                  2.0  SummaryType.COLUMN  \nAUD                  2.0001                  2.0  SummaryType.COLUMN  \nBRL                  2.0001                  2.0  SummaryType.COLUMN  \nCAD                  2.0001                  2.0  SummaryType.COLUMN  \nCHF                  2.0001                  2.0  SummaryType.COLUMN  \nCLP                  2.0001                  2.0  SummaryType.COLUMN  \nCNY                  2.0001                  2.0  SummaryType.COLUMN  \nCZK                  2.0001                  2.0  SummaryType.COLUMN  \nDKK                  2.0001                  2.0  SummaryType.COLUMN  \nEUR                  2.0001                  2.0  SummaryType.COLUMN  \nGBP                  2.0001                  2.0  SummaryType.COLUMN  \nHKD                  2.0001                  2.0  SummaryType.COLUMN  \nHRK                  2.0001                  2.0  SummaryType.COLUMN  \nHUF                  2.0001                  2.0  SummaryType.COLUMN  \nINR                  2.0001                  2.0  SummaryType.COLUMN  \nISK                  2.0001                  2.0  SummaryType.COLUMN  \nJPY                  2.0001                  2.0  SummaryType.COLUMN  \nKRW                  2.0001                  2.0  SummaryType.COLUMN  \nNZD                  2.0001                  2.0  SummaryType.COLUMN  \nPLN                  2.0001                  2.0  SummaryType.COLUMN  \nRON                  2.0001                  2.0  SummaryType.COLUMN  \nRUB                  2.0001                  2.0  SummaryType.COLUMN  \nSEK                  2.0001                  2.0  SummaryType.COLUMN  \nSGD                  2.0001                  2.0  SummaryType.COLUMN  \nTHB                  2.0001                  2.0  SummaryType.COLUMN  \nTRY                  2.0001                  2.0  SummaryType.COLUMN  \nTWD                  2.0001                  2.0  SummaryType.COLUMN  \nUSD                  2.0001                  2.0  SummaryType.COLUMN  ",
      "text/html": "<div>\n<style scoped>\n    .dataframe tbody tr th:only-of-type {\n        vertical-align: middle;\n    }\n\n    .dataframe tbody tr th {\n        vertical-align: top;\n    }\n\n    .dataframe thead th {\n        text-align: right;\n    }\n</style>\n<table border=\"1\" class=\"dataframe\">\n  <thead>\n    <tr style=\"text-align: right;\">\n      <th></th>\n      <th>types/integral</th>\n      <th>types/fractional</th>\n      <th>types/boolean</th>\n      <th>types/string</th>\n      <th>types/object</th>\n      <th>counts/n</th>\n      <th>counts/null</th>\n      <th>frequent_items/frequent_strings</th>\n      <th>cardinality/est</th>\n      <th>cardinality/upper_1</th>\n      <th>cardinality/lower_1</th>\n      <th>type</th>\n    </tr>\n    <tr>\n      <th>column</th>\n      <th></th>\n      <th></th>\n      <th></th>\n      <th></th>\n      <th></th>\n      <th></th>\n      <th></th>\n      <th></th>\n      <th></th>\n      <th></th>\n      <th></th>\n      <th></th>\n    </tr>\n  </thead>\n  <tbody>\n    <tr>\n      <th>ARS</th>\n      <td>0</td>\n      <td>652</td>\n      <td>0</td>\n      <td>163</td>\n      <td>0</td>\n      <td>815</td>\n      <td>0</td>\n      <td>[FrequentItem(value='4818920.680000', est=652,...</td>\n      <td>2.0</td>\n      <td>2.0001</td>\n      <td>2.0</td>\n      <td>SummaryType.COLUMN</td>\n    </tr>\n    <tr>\n      <th>AUD</th>\n      <td>0</td>\n      <td>652</td>\n      <td>0</td>\n      <td>163</td>\n      <td>0</td>\n      <td>815</td>\n      <td>0</td>\n      <td>[FrequentItem(value='29368.890000', est=652, u...</td>\n      <td>2.0</td>\n      <td>2.0001</td>\n      <td>2.0</td>\n      <td>SummaryType.COLUMN</td>\n    </tr>\n    <tr>\n      <th>BRL</th>\n      <td>0</td>\n      <td>652</td>\n      <td>0</td>\n      <td>163</td>\n      <td>0</td>\n      <td>815</td>\n      <td>0</td>\n      <td>[FrequentItem(value='106313.070000', est=652, ...</td>\n      <td>2.0</td>\n      <td>2.0001</td>\n      <td>2.0</td>\n      <td>SummaryType.COLUMN</td>\n    </tr>\n    <tr>\n      <th>CAD</th>\n      <td>0</td>\n      <td>652</td>\n      <td>0</td>\n      <td>163</td>\n      <td>0</td>\n      <td>815</td>\n      <td>0</td>\n      <td>[FrequentItem(value='26768.750000', est=652, u...</td>\n      <td>2.0</td>\n      <td>2.0001</td>\n      <td>2.0</td>\n      <td>SummaryType.COLUMN</td>\n    </tr>\n    <tr>\n      <th>CHF</th>\n      <td>0</td>\n      <td>652</td>\n      <td>0</td>\n      <td>163</td>\n      <td>0</td>\n      <td>815</td>\n      <td>0</td>\n      <td>[FrequentItem(value='19943.030000', est=652, u...</td>\n      <td>2.0</td>\n      <td>2.0001</td>\n      <td>2.0</td>\n      <td>SummaryType.COLUMN</td>\n    </tr>\n    <tr>\n      <th>CLP</th>\n      <td>0</td>\n      <td>652</td>\n      <td>0</td>\n      <td>163</td>\n      <td>0</td>\n      <td>815</td>\n      <td>0</td>\n      <td>[FrequentItem(value='18140556.340000', est=652...</td>\n      <td>2.0</td>\n      <td>2.0001</td>\n      <td>2.0</td>\n      <td>SummaryType.COLUMN</td>\n    </tr>\n    <tr>\n      <th>CNY</th>\n      <td>0</td>\n      <td>652</td>\n      <td>0</td>\n      <td>163</td>\n      <td>0</td>\n      <td>815</td>\n      <td>0</td>\n      <td>[FrequentItem(value='209945.680000', est=652, ...</td>\n      <td>2.0</td>\n      <td>2.0001</td>\n      <td>2.0</td>\n      <td>SummaryType.COLUMN</td>\n    </tr>\n    <tr>\n      <th>CZK</th>\n      <td>0</td>\n      <td>652</td>\n      <td>0</td>\n      <td>163</td>\n      <td>0</td>\n      <td>815</td>\n      <td>0</td>\n      <td>[FrequentItem(value='492436.890000', est=652, ...</td>\n      <td>2.0</td>\n      <td>2.0001</td>\n      <td>2.0</td>\n      <td>SummaryType.COLUMN</td>\n    </tr>\n    <tr>\n      <th>DKK</th>\n      <td>0</td>\n      <td>652</td>\n      <td>0</td>\n      <td>163</td>\n      <td>0</td>\n      <td>815</td>\n      <td>0</td>\n      <td>[FrequentItem(value='160250.110000', est=652, ...</td>\n      <td>2.0</td>\n      <td>2.0001</td>\n      <td>2.0</td>\n      <td>SummaryType.COLUMN</td>\n    </tr>\n    <tr>\n      <th>EUR</th>\n      <td>0</td>\n      <td>652</td>\n      <td>0</td>\n      <td>163</td>\n      <td>0</td>\n      <td>815</td>\n      <td>0</td>\n      <td>[FrequentItem(value='19629.200000', est=652, u...</td>\n      <td>2.0</td>\n      <td>2.0001</td>\n      <td>2.0</td>\n      <td>SummaryType.COLUMN</td>\n    </tr>\n    <tr>\n      <th>GBP</th>\n      <td>0</td>\n      <td>652</td>\n      <td>0</td>\n      <td>163</td>\n      <td>0</td>\n      <td>815</td>\n      <td>0</td>\n      <td>[FrequentItem(value='16749.860000', est=652, u...</td>\n      <td>2.0</td>\n      <td>2.0001</td>\n      <td>2.0</td>\n      <td>SummaryType.COLUMN</td>\n    </tr>\n    <tr>\n      <th>HKD</th>\n      <td>0</td>\n      <td>652</td>\n      <td>0</td>\n      <td>163</td>\n      <td>0</td>\n      <td>815</td>\n      <td>0</td>\n      <td>[FrequentItem(value='162177.250000', est=652, ...</td>\n      <td>2.0</td>\n      <td>2.0001</td>\n      <td>2.0</td>\n      <td>SummaryType.COLUMN</td>\n    </tr>\n    <tr>\n      <th>HRK</th>\n      <td>0</td>\n      <td>652</td>\n      <td>0</td>\n      <td>163</td>\n      <td>0</td>\n      <td>815</td>\n      <td>0</td>\n      <td>[FrequentItem(value='158181.680000', est=652, ...</td>\n      <td>2.0</td>\n      <td>2.0001</td>\n      <td>2.0</td>\n      <td>SummaryType.COLUMN</td>\n    </tr>\n    <tr>\n      <th>HUF</th>\n      <td>0</td>\n      <td>652</td>\n      <td>0</td>\n      <td>163</td>\n      <td>0</td>\n      <td>815</td>\n      <td>0</td>\n      <td>[FrequentItem(value='8426338.970000', est=652,...</td>\n      <td>2.0</td>\n      <td>2.0001</td>\n      <td>2.0</td>\n      <td>SummaryType.COLUMN</td>\n    </tr>\n    <tr>\n      <th>INR</th>\n      <td>0</td>\n      <td>652</td>\n      <td>0</td>\n      <td>163</td>\n      <td>0</td>\n      <td>815</td>\n      <td>0</td>\n      <td>[FrequentItem(value='1606321.740000', est=652,...</td>\n      <td>2.0</td>\n      <td>2.0001</td>\n      <td>2.0</td>\n      <td>SummaryType.COLUMN</td>\n    </tr>\n    <tr>\n      <th>ISK</th>\n      <td>0</td>\n      <td>652</td>\n      <td>0</td>\n      <td>163</td>\n      <td>0</td>\n      <td>815</td>\n      <td>0</td>\n      <td>[FrequentItem(value='5804783.710000', est=652,...</td>\n      <td>2.0</td>\n      <td>2.0001</td>\n      <td>2.0</td>\n      <td>SummaryType.COLUMN</td>\n    </tr>\n    <tr>\n      <th>JPY</th>\n      <td>0</td>\n      <td>652</td>\n      <td>0</td>\n      <td>163</td>\n      <td>0</td>\n      <td>815</td>\n      <td>0</td>\n      <td>[FrequentItem(value='2742175.440000', est=652,...</td>\n      <td>2.0</td>\n      <td>2.0001</td>\n      <td>2.0</td>\n      <td>SummaryType.COLUMN</td>\n    </tr>\n    <tr>\n      <th>KRW</th>\n      <td>0</td>\n      <td>652</td>\n      <td>0</td>\n      <td>163</td>\n      <td>0</td>\n      <td>815</td>\n      <td>0</td>\n      <td>[FrequentItem(value='27191424.130000', est=652...</td>\n      <td>2.0</td>\n      <td>2.0001</td>\n      <td>2.0</td>\n      <td>SummaryType.COLUMN</td>\n    </tr>\n    <tr>\n      <th>NZD</th>\n      <td>0</td>\n      <td>652</td>\n      <td>0</td>\n      <td>163</td>\n      <td>0</td>\n      <td>815</td>\n      <td>0</td>\n      <td>[FrequentItem(value='32529.620000', est=652, u...</td>\n      <td>2.0</td>\n      <td>2.0001</td>\n      <td>2.0</td>\n      <td>SummaryType.COLUMN</td>\n    </tr>\n    <tr>\n      <th>PLN</th>\n      <td>0</td>\n      <td>652</td>\n      <td>0</td>\n      <td>163</td>\n      <td>0</td>\n      <td>815</td>\n      <td>0</td>\n      <td>[FrequentItem(value='93091.290000', est=652, u...</td>\n      <td>2.0</td>\n      <td>2.0001</td>\n      <td>2.0</td>\n      <td>SummaryType.COLUMN</td>\n    </tr>\n    <tr>\n      <th>RON</th>\n      <td>0</td>\n      <td>652</td>\n      <td>0</td>\n      <td>163</td>\n      <td>0</td>\n      <td>815</td>\n      <td>0</td>\n      <td>[FrequentItem(value='79683.290000', est=652, u...</td>\n      <td>2.0</td>\n      <td>2.0001</td>\n      <td>2.0</td>\n      <td>SummaryType.COLUMN</td>\n    </tr>\n    <tr>\n      <th>RUB</th>\n      <td>0</td>\n      <td>652</td>\n      <td>0</td>\n      <td>163</td>\n      <td>0</td>\n      <td>815</td>\n      <td>0</td>\n      <td>[FrequentItem(value='1193795.950000', est=652,...</td>\n      <td>2.0</td>\n      <td>2.0001</td>\n      <td>2.0</td>\n      <td>SummaryType.COLUMN</td>\n    </tr>\n    <tr>\n      <th>SEK</th>\n      <td>0</td>\n      <td>652</td>\n      <td>0</td>\n      <td>163</td>\n      <td>0</td>\n      <td>815</td>\n      <td>0</td>\n      <td>[FrequentItem(value='235472.430000', est=652, ...</td>\n      <td>2.0</td>\n      <td>2.0001</td>\n      <td>2.0</td>\n      <td>SummaryType.COLUMN</td>\n    </tr>\n    <tr>\n      <th>SGD</th>\n      <td>0</td>\n      <td>648</td>\n      <td>0</td>\n      <td>162</td>\n      <td>0</td>\n      <td>810</td>\n      <td>0</td>\n      <td>[FrequentItem(value='28425.310000', est=648, u...</td>\n      <td>2.0</td>\n      <td>2.0001</td>\n      <td>2.0</td>\n      <td>SummaryType.COLUMN</td>\n    </tr>\n    <tr>\n      <th>THB</th>\n      <td>0</td>\n      <td>648</td>\n      <td>0</td>\n      <td>162</td>\n      <td>0</td>\n      <td>810</td>\n      <td>0</td>\n      <td>[FrequentItem(value='725189.590000', est=648, ...</td>\n      <td>2.0</td>\n      <td>2.0001</td>\n      <td>2.0</td>\n      <td>SummaryType.COLUMN</td>\n    </tr>\n    <tr>\n      <th>TRY</th>\n      <td>0</td>\n      <td>648</td>\n      <td>0</td>\n      <td>162</td>\n      <td>0</td>\n      <td>810</td>\n      <td>0</td>\n      <td>[FrequentItem(value='362076.650000', est=648, ...</td>\n      <td>2.0</td>\n      <td>2.0001</td>\n      <td>2.0</td>\n      <td>SummaryType.COLUMN</td>\n    </tr>\n    <tr>\n      <th>TWD</th>\n      <td>0</td>\n      <td>648</td>\n      <td>0</td>\n      <td>162</td>\n      <td>0</td>\n      <td>810</td>\n      <td>0</td>\n      <td>[FrequentItem(value='22285617.340000', est=648...</td>\n      <td>2.0</td>\n      <td>2.0001</td>\n      <td>2.0</td>\n      <td>SummaryType.COLUMN</td>\n    </tr>\n    <tr>\n      <th>USD</th>\n      <td>0</td>\n      <td>648</td>\n      <td>0</td>\n      <td>162</td>\n      <td>0</td>\n      <td>810</td>\n      <td>0</td>\n      <td>[FrequentItem(value='20702.830000', est=648, u...</td>\n      <td>2.0</td>\n      <td>2.0001</td>\n      <td>2.0</td>\n      <td>SummaryType.COLUMN</td>\n    </tr>\n  </tbody>\n</table>\n</div>"
     },
     "execution_count": 10,
     "metadata": {},
     "output_type": "execute_result"
    }
   ],
   "source": [
    "# Get the first file\n",
    "first_file = listdir(tmp_path)[0]\n",
    "path = os.path.join(tmp_path, first_file)\n",
    "\n",
    "# This .bin can be read using the path\n",
    "result_view = why.read(path).view()\n",
    "result_view.to_pandas()"
   ],
   "metadata": {
    "collapsed": false,
    "pycharm": {
     "name": "#%%\n"
    }
   }
  },
  {
   "cell_type": "markdown",
   "source": [
    "## Merging Profiles from .bin\n",
    "Ok, so we have saved .bin!! Huzzah! .... and what do we do with them?\n",
    "\n",
    "Let us read them in from our local file system and merge them in a couple of ways. Please check out the [\"Merging Profile\"](https://github.com/whylabs/whylogs/blob/9618e5dd6570bc484579ec1325f2f512ff56977f/python/examples/basic/Merging_Profiles.ipynb) notebook for an indepth."
   ],
   "metadata": {
    "collapsed": false,
    "pycharm": {
     "name": "#%% md\n"
    }
   }
  },
  {
   "cell_type": "code",
   "execution_count": 9,
   "outputs": [
    {
     "data": {
      "text/plain": "        types/integral  types/fractional  types/boolean  types/string  \\\ncolumn                                                                  \nARS                  0               652              0           163   \nAUD                  0               652              0           163   \nBRL                  0               652              0           163   \nCAD                  0               652              0           163   \nCHF                  0               652              0           163   \nCLP                  0               652              0           163   \nCNY                  0               652              0           163   \nCZK                  0               652              0           163   \nDKK                  0               652              0           163   \nEUR                  0               652              0           163   \nGBP                  0               652              0           163   \nHKD                  0               652              0           163   \nHRK                  0               652              0           163   \nHUF                  0               652              0           163   \nINR                  0               652              0           163   \nISK                  0               652              0           163   \nJPY                  0               652              0           163   \nKRW                  0               652              0           163   \nNZD                  0               652              0           163   \nPLN                  0               652              0           163   \nRON                  0               652              0           163   \nRUB                  0               652              0           163   \nSEK                  0               652              0           163   \nSGD                  0               648              0           162   \nTHB                  0               648              0           162   \nTRY                  0               648              0           162   \nTWD                  0               648              0           162   \nUSD                  0               648              0           162   \n\n        types/object  counts/n  counts/null  \\\ncolumn                                        \nARS                0       815            0   \nAUD                0       815            0   \nBRL                0       815            0   \nCAD                0       815            0   \nCHF                0       815            0   \nCLP                0       815            0   \nCNY                0       815            0   \nCZK                0       815            0   \nDKK                0       815            0   \nEUR                0       815            0   \nGBP                0       815            0   \nHKD                0       815            0   \nHRK                0       815            0   \nHUF                0       815            0   \nINR                0       815            0   \nISK                0       815            0   \nJPY                0       815            0   \nKRW                0       815            0   \nNZD                0       815            0   \nPLN                0       815            0   \nRON                0       815            0   \nRUB                0       815            0   \nSEK                0       815            0   \nSGD                0       810            0   \nTHB                0       810            0   \nTRY                0       810            0   \nTWD                0       810            0   \nUSD                0       810            0   \n\n                          frequent_items/frequent_strings  cardinality/est  \\\ncolumn                                                                       \nARS     [FrequentItem(value='4818920.680000', est=652,...              2.0   \nAUD     [FrequentItem(value='29368.890000', est=652, u...              2.0   \nBRL     [FrequentItem(value='106313.070000', est=652, ...              2.0   \nCAD     [FrequentItem(value='26768.750000', est=652, u...              2.0   \nCHF     [FrequentItem(value='19943.030000', est=652, u...              2.0   \nCLP     [FrequentItem(value='18140556.340000', est=652...              2.0   \nCNY     [FrequentItem(value='209945.680000', est=652, ...              2.0   \nCZK     [FrequentItem(value='492436.890000', est=652, ...              2.0   \nDKK     [FrequentItem(value='160250.110000', est=652, ...              2.0   \nEUR     [FrequentItem(value='19629.200000', est=652, u...              2.0   \nGBP     [FrequentItem(value='16749.860000', est=652, u...              2.0   \nHKD     [FrequentItem(value='162177.250000', est=652, ...              2.0   \nHRK     [FrequentItem(value='158181.680000', est=652, ...              2.0   \nHUF     [FrequentItem(value='8426338.970000', est=652,...              2.0   \nINR     [FrequentItem(value='1606321.740000', est=652,...              2.0   \nISK     [FrequentItem(value='5804783.710000', est=652,...              2.0   \nJPY     [FrequentItem(value='2742175.440000', est=652,...              2.0   \nKRW     [FrequentItem(value='27191424.130000', est=652...              2.0   \nNZD     [FrequentItem(value='32529.620000', est=652, u...              2.0   \nPLN     [FrequentItem(value='93091.290000', est=652, u...              2.0   \nRON     [FrequentItem(value='79683.290000', est=652, u...              2.0   \nRUB     [FrequentItem(value='1193795.950000', est=652,...              2.0   \nSEK     [FrequentItem(value='235472.430000', est=652, ...              2.0   \nSGD     [FrequentItem(value='28425.310000', est=648, u...              2.0   \nTHB     [FrequentItem(value='725189.590000', est=648, ...              2.0   \nTRY     [FrequentItem(value='362076.650000', est=648, ...              2.0   \nTWD     [FrequentItem(value='22285617.340000', est=648...              2.0   \nUSD     [FrequentItem(value='20702.830000', est=648, u...              2.0   \n\n        cardinality/upper_1  cardinality/lower_1                type  \ncolumn                                                                \nARS                  2.0001                  2.0  SummaryType.COLUMN  \nAUD                  2.0001                  2.0  SummaryType.COLUMN  \nBRL                  2.0001                  2.0  SummaryType.COLUMN  \nCAD                  2.0001                  2.0  SummaryType.COLUMN  \nCHF                  2.0001                  2.0  SummaryType.COLUMN  \nCLP                  2.0001                  2.0  SummaryType.COLUMN  \nCNY                  2.0001                  2.0  SummaryType.COLUMN  \nCZK                  2.0001                  2.0  SummaryType.COLUMN  \nDKK                  2.0001                  2.0  SummaryType.COLUMN  \nEUR                  2.0001                  2.0  SummaryType.COLUMN  \nGBP                  2.0001                  2.0  SummaryType.COLUMN  \nHKD                  2.0001                  2.0  SummaryType.COLUMN  \nHRK                  2.0001                  2.0  SummaryType.COLUMN  \nHUF                  2.0001                  2.0  SummaryType.COLUMN  \nINR                  2.0001                  2.0  SummaryType.COLUMN  \nISK                  2.0001                  2.0  SummaryType.COLUMN  \nJPY                  2.0001                  2.0  SummaryType.COLUMN  \nKRW                  2.0001                  2.0  SummaryType.COLUMN  \nNZD                  2.0001                  2.0  SummaryType.COLUMN  \nPLN                  2.0001                  2.0  SummaryType.COLUMN  \nRON                  2.0001                  2.0  SummaryType.COLUMN  \nRUB                  2.0001                  2.0  SummaryType.COLUMN  \nSEK                  2.0001                  2.0  SummaryType.COLUMN  \nSGD                  2.0001                  2.0  SummaryType.COLUMN  \nTHB                  2.0001                  2.0  SummaryType.COLUMN  \nTRY                  2.0001                  2.0  SummaryType.COLUMN  \nTWD                  2.0001                  2.0  SummaryType.COLUMN  \nUSD                  2.0001                  2.0  SummaryType.COLUMN  ",
      "text/html": "<div>\n<style scoped>\n    .dataframe tbody tr th:only-of-type {\n        vertical-align: middle;\n    }\n\n    .dataframe tbody tr th {\n        vertical-align: top;\n    }\n\n    .dataframe thead th {\n        text-align: right;\n    }\n</style>\n<table border=\"1\" class=\"dataframe\">\n  <thead>\n    <tr style=\"text-align: right;\">\n      <th></th>\n      <th>types/integral</th>\n      <th>types/fractional</th>\n      <th>types/boolean</th>\n      <th>types/string</th>\n      <th>types/object</th>\n      <th>counts/n</th>\n      <th>counts/null</th>\n      <th>frequent_items/frequent_strings</th>\n      <th>cardinality/est</th>\n      <th>cardinality/upper_1</th>\n      <th>cardinality/lower_1</th>\n      <th>type</th>\n    </tr>\n    <tr>\n      <th>column</th>\n      <th></th>\n      <th></th>\n      <th></th>\n      <th></th>\n      <th></th>\n      <th></th>\n      <th></th>\n      <th></th>\n      <th></th>\n      <th></th>\n      <th></th>\n      <th></th>\n    </tr>\n  </thead>\n  <tbody>\n    <tr>\n      <th>ARS</th>\n      <td>0</td>\n      <td>652</td>\n      <td>0</td>\n      <td>163</td>\n      <td>0</td>\n      <td>815</td>\n      <td>0</td>\n      <td>[FrequentItem(value='4818920.680000', est=652,...</td>\n      <td>2.0</td>\n      <td>2.0001</td>\n      <td>2.0</td>\n      <td>SummaryType.COLUMN</td>\n    </tr>\n    <tr>\n      <th>AUD</th>\n      <td>0</td>\n      <td>652</td>\n      <td>0</td>\n      <td>163</td>\n      <td>0</td>\n      <td>815</td>\n      <td>0</td>\n      <td>[FrequentItem(value='29368.890000', est=652, u...</td>\n      <td>2.0</td>\n      <td>2.0001</td>\n      <td>2.0</td>\n      <td>SummaryType.COLUMN</td>\n    </tr>\n    <tr>\n      <th>BRL</th>\n      <td>0</td>\n      <td>652</td>\n      <td>0</td>\n      <td>163</td>\n      <td>0</td>\n      <td>815</td>\n      <td>0</td>\n      <td>[FrequentItem(value='106313.070000', est=652, ...</td>\n      <td>2.0</td>\n      <td>2.0001</td>\n      <td>2.0</td>\n      <td>SummaryType.COLUMN</td>\n    </tr>\n    <tr>\n      <th>CAD</th>\n      <td>0</td>\n      <td>652</td>\n      <td>0</td>\n      <td>163</td>\n      <td>0</td>\n      <td>815</td>\n      <td>0</td>\n      <td>[FrequentItem(value='26768.750000', est=652, u...</td>\n      <td>2.0</td>\n      <td>2.0001</td>\n      <td>2.0</td>\n      <td>SummaryType.COLUMN</td>\n    </tr>\n    <tr>\n      <th>CHF</th>\n      <td>0</td>\n      <td>652</td>\n      <td>0</td>\n      <td>163</td>\n      <td>0</td>\n      <td>815</td>\n      <td>0</td>\n      <td>[FrequentItem(value='19943.030000', est=652, u...</td>\n      <td>2.0</td>\n      <td>2.0001</td>\n      <td>2.0</td>\n      <td>SummaryType.COLUMN</td>\n    </tr>\n    <tr>\n      <th>CLP</th>\n      <td>0</td>\n      <td>652</td>\n      <td>0</td>\n      <td>163</td>\n      <td>0</td>\n      <td>815</td>\n      <td>0</td>\n      <td>[FrequentItem(value='18140556.340000', est=652...</td>\n      <td>2.0</td>\n      <td>2.0001</td>\n      <td>2.0</td>\n      <td>SummaryType.COLUMN</td>\n    </tr>\n    <tr>\n      <th>CNY</th>\n      <td>0</td>\n      <td>652</td>\n      <td>0</td>\n      <td>163</td>\n      <td>0</td>\n      <td>815</td>\n      <td>0</td>\n      <td>[FrequentItem(value='209945.680000', est=652, ...</td>\n      <td>2.0</td>\n      <td>2.0001</td>\n      <td>2.0</td>\n      <td>SummaryType.COLUMN</td>\n    </tr>\n    <tr>\n      <th>CZK</th>\n      <td>0</td>\n      <td>652</td>\n      <td>0</td>\n      <td>163</td>\n      <td>0</td>\n      <td>815</td>\n      <td>0</td>\n      <td>[FrequentItem(value='492436.890000', est=652, ...</td>\n      <td>2.0</td>\n      <td>2.0001</td>\n      <td>2.0</td>\n      <td>SummaryType.COLUMN</td>\n    </tr>\n    <tr>\n      <th>DKK</th>\n      <td>0</td>\n      <td>652</td>\n      <td>0</td>\n      <td>163</td>\n      <td>0</td>\n      <td>815</td>\n      <td>0</td>\n      <td>[FrequentItem(value='160250.110000', est=652, ...</td>\n      <td>2.0</td>\n      <td>2.0001</td>\n      <td>2.0</td>\n      <td>SummaryType.COLUMN</td>\n    </tr>\n    <tr>\n      <th>EUR</th>\n      <td>0</td>\n      <td>652</td>\n      <td>0</td>\n      <td>163</td>\n      <td>0</td>\n      <td>815</td>\n      <td>0</td>\n      <td>[FrequentItem(value='19629.200000', est=652, u...</td>\n      <td>2.0</td>\n      <td>2.0001</td>\n      <td>2.0</td>\n      <td>SummaryType.COLUMN</td>\n    </tr>\n    <tr>\n      <th>GBP</th>\n      <td>0</td>\n      <td>652</td>\n      <td>0</td>\n      <td>163</td>\n      <td>0</td>\n      <td>815</td>\n      <td>0</td>\n      <td>[FrequentItem(value='16749.860000', est=652, u...</td>\n      <td>2.0</td>\n      <td>2.0001</td>\n      <td>2.0</td>\n      <td>SummaryType.COLUMN</td>\n    </tr>\n    <tr>\n      <th>HKD</th>\n      <td>0</td>\n      <td>652</td>\n      <td>0</td>\n      <td>163</td>\n      <td>0</td>\n      <td>815</td>\n      <td>0</td>\n      <td>[FrequentItem(value='162177.250000', est=652, ...</td>\n      <td>2.0</td>\n      <td>2.0001</td>\n      <td>2.0</td>\n      <td>SummaryType.COLUMN</td>\n    </tr>\n    <tr>\n      <th>HRK</th>\n      <td>0</td>\n      <td>652</td>\n      <td>0</td>\n      <td>163</td>\n      <td>0</td>\n      <td>815</td>\n      <td>0</td>\n      <td>[FrequentItem(value='158181.680000', est=652, ...</td>\n      <td>2.0</td>\n      <td>2.0001</td>\n      <td>2.0</td>\n      <td>SummaryType.COLUMN</td>\n    </tr>\n    <tr>\n      <th>HUF</th>\n      <td>0</td>\n      <td>652</td>\n      <td>0</td>\n      <td>163</td>\n      <td>0</td>\n      <td>815</td>\n      <td>0</td>\n      <td>[FrequentItem(value='8426338.970000', est=652,...</td>\n      <td>2.0</td>\n      <td>2.0001</td>\n      <td>2.0</td>\n      <td>SummaryType.COLUMN</td>\n    </tr>\n    <tr>\n      <th>INR</th>\n      <td>0</td>\n      <td>652</td>\n      <td>0</td>\n      <td>163</td>\n      <td>0</td>\n      <td>815</td>\n      <td>0</td>\n      <td>[FrequentItem(value='1606321.740000', est=652,...</td>\n      <td>2.0</td>\n      <td>2.0001</td>\n      <td>2.0</td>\n      <td>SummaryType.COLUMN</td>\n    </tr>\n    <tr>\n      <th>ISK</th>\n      <td>0</td>\n      <td>652</td>\n      <td>0</td>\n      <td>163</td>\n      <td>0</td>\n      <td>815</td>\n      <td>0</td>\n      <td>[FrequentItem(value='5804783.710000', est=652,...</td>\n      <td>2.0</td>\n      <td>2.0001</td>\n      <td>2.0</td>\n      <td>SummaryType.COLUMN</td>\n    </tr>\n    <tr>\n      <th>JPY</th>\n      <td>0</td>\n      <td>652</td>\n      <td>0</td>\n      <td>163</td>\n      <td>0</td>\n      <td>815</td>\n      <td>0</td>\n      <td>[FrequentItem(value='2742175.440000', est=652,...</td>\n      <td>2.0</td>\n      <td>2.0001</td>\n      <td>2.0</td>\n      <td>SummaryType.COLUMN</td>\n    </tr>\n    <tr>\n      <th>KRW</th>\n      <td>0</td>\n      <td>652</td>\n      <td>0</td>\n      <td>163</td>\n      <td>0</td>\n      <td>815</td>\n      <td>0</td>\n      <td>[FrequentItem(value='27191424.130000', est=652...</td>\n      <td>2.0</td>\n      <td>2.0001</td>\n      <td>2.0</td>\n      <td>SummaryType.COLUMN</td>\n    </tr>\n    <tr>\n      <th>NZD</th>\n      <td>0</td>\n      <td>652</td>\n      <td>0</td>\n      <td>163</td>\n      <td>0</td>\n      <td>815</td>\n      <td>0</td>\n      <td>[FrequentItem(value='32529.620000', est=652, u...</td>\n      <td>2.0</td>\n      <td>2.0001</td>\n      <td>2.0</td>\n      <td>SummaryType.COLUMN</td>\n    </tr>\n    <tr>\n      <th>PLN</th>\n      <td>0</td>\n      <td>652</td>\n      <td>0</td>\n      <td>163</td>\n      <td>0</td>\n      <td>815</td>\n      <td>0</td>\n      <td>[FrequentItem(value='93091.290000', est=652, u...</td>\n      <td>2.0</td>\n      <td>2.0001</td>\n      <td>2.0</td>\n      <td>SummaryType.COLUMN</td>\n    </tr>\n    <tr>\n      <th>RON</th>\n      <td>0</td>\n      <td>652</td>\n      <td>0</td>\n      <td>163</td>\n      <td>0</td>\n      <td>815</td>\n      <td>0</td>\n      <td>[FrequentItem(value='79683.290000', est=652, u...</td>\n      <td>2.0</td>\n      <td>2.0001</td>\n      <td>2.0</td>\n      <td>SummaryType.COLUMN</td>\n    </tr>\n    <tr>\n      <th>RUB</th>\n      <td>0</td>\n      <td>652</td>\n      <td>0</td>\n      <td>163</td>\n      <td>0</td>\n      <td>815</td>\n      <td>0</td>\n      <td>[FrequentItem(value='1193795.950000', est=652,...</td>\n      <td>2.0</td>\n      <td>2.0001</td>\n      <td>2.0</td>\n      <td>SummaryType.COLUMN</td>\n    </tr>\n    <tr>\n      <th>SEK</th>\n      <td>0</td>\n      <td>652</td>\n      <td>0</td>\n      <td>163</td>\n      <td>0</td>\n      <td>815</td>\n      <td>0</td>\n      <td>[FrequentItem(value='235472.430000', est=652, ...</td>\n      <td>2.0</td>\n      <td>2.0001</td>\n      <td>2.0</td>\n      <td>SummaryType.COLUMN</td>\n    </tr>\n    <tr>\n      <th>SGD</th>\n      <td>0</td>\n      <td>648</td>\n      <td>0</td>\n      <td>162</td>\n      <td>0</td>\n      <td>810</td>\n      <td>0</td>\n      <td>[FrequentItem(value='28425.310000', est=648, u...</td>\n      <td>2.0</td>\n      <td>2.0001</td>\n      <td>2.0</td>\n      <td>SummaryType.COLUMN</td>\n    </tr>\n    <tr>\n      <th>THB</th>\n      <td>0</td>\n      <td>648</td>\n      <td>0</td>\n      <td>162</td>\n      <td>0</td>\n      <td>810</td>\n      <td>0</td>\n      <td>[FrequentItem(value='725189.590000', est=648, ...</td>\n      <td>2.0</td>\n      <td>2.0001</td>\n      <td>2.0</td>\n      <td>SummaryType.COLUMN</td>\n    </tr>\n    <tr>\n      <th>TRY</th>\n      <td>0</td>\n      <td>648</td>\n      <td>0</td>\n      <td>162</td>\n      <td>0</td>\n      <td>810</td>\n      <td>0</td>\n      <td>[FrequentItem(value='362076.650000', est=648, ...</td>\n      <td>2.0</td>\n      <td>2.0001</td>\n      <td>2.0</td>\n      <td>SummaryType.COLUMN</td>\n    </tr>\n    <tr>\n      <th>TWD</th>\n      <td>0</td>\n      <td>648</td>\n      <td>0</td>\n      <td>162</td>\n      <td>0</td>\n      <td>810</td>\n      <td>0</td>\n      <td>[FrequentItem(value='22285617.340000', est=648...</td>\n      <td>2.0</td>\n      <td>2.0001</td>\n      <td>2.0</td>\n      <td>SummaryType.COLUMN</td>\n    </tr>\n    <tr>\n      <th>USD</th>\n      <td>0</td>\n      <td>648</td>\n      <td>0</td>\n      <td>162</td>\n      <td>0</td>\n      <td>810</td>\n      <td>0</td>\n      <td>[FrequentItem(value='20702.830000', est=648, u...</td>\n      <td>2.0</td>\n      <td>2.0001</td>\n      <td>2.0</td>\n      <td>SummaryType.COLUMN</td>\n    </tr>\n  </tbody>\n</table>\n</div>"
     },
     "execution_count": 9,
     "metadata": {},
     "output_type": "execute_result"
    }
   ],
   "source": [
    "merged_profiles_view = None\n",
    "\n",
    "# Let's go through all files in the directory\n",
    "for f in listdir(tmp_path):\n",
    "    path = os.path.join(tmp_path, f)\n",
    "\n",
    "    # We know we don't want any hidden files or dir\n",
    "    if isfile(path) and f[0] != \".\":\n",
    "\n",
    "        # Read the file and store the view\n",
    "        reading_result = why.read(path)\n",
    "        result_view =  reading_result.view()\n",
    "\n",
    "        # Let's merge the views together\n",
    "        if merged_profiles_view:\n",
    "            merged_profiles_view.merge(result_view)\n",
    "        else:\n",
    "            merged_profiles_view = result_view\n",
    "\n",
    "merged_profiles_view.to_pandas()"
   ],
   "metadata": {
    "collapsed": false,
    "pycharm": {
     "name": "#%%\n"
    }
   }
  },
  {
   "cell_type": "markdown",
   "source": [
    "# What's next?\n",
    "- Get to know [\"Merging Profiles\"](https://github.com/whylabs/whylogs/blob/9618e5dd6570bc484579ec1325f2f512ff56977f/python/examples/basic/Merging_Profiles.ipynb) and how to use them.\n",
    "- See how all this can be visualized in [\"Notebook Profile Visualizer\"](https://github.com/whylabs/whylogs/blob/9618e5dd6570bc484579ec1325f2f512ff56977f/python/examples/basic/Notebook_Profile_Visualizer.ipynb)"
   ],
   "metadata": {
    "collapsed": false,
    "pycharm": {
     "name": "#%% md\n"
    }
   }
  },
  {
   "cell_type": "code",
   "execution_count": null,
   "outputs": [],
   "source": [],
   "metadata": {
    "collapsed": false,
    "pycharm": {
     "name": "#%%"
    }
   }
  }
 ],
 "metadata": {
  "kernelspec": {
   "display_name": "Python 3",
   "language": "python",
   "name": "python3"
  },
  "language_info": {
   "codemirror_mode": {
    "name": "ipython",
    "version": 2
   },
   "file_extension": ".py",
   "mimetype": "text/x-python",
   "name": "python",
   "nbconvert_exporter": "python",
   "pygments_lexer": "ipython2",
   "version": "2.7.6"
  }
 },
 "nbformat": 4,
 "nbformat_minor": 0
}