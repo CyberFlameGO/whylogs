{
 "cells": [
  {
   "cell_type": "code",
   "execution_count": null,
   "metadata": {
    "collapsed": true
   },
   "outputs": [],
   "source": [
    "!pip install psutil\n",
    "\n",
    "import time\n",
    "import psutil\n",
    "import pandas as pd"
   ]
  },
  {
   "cell_type": "code",
   "execution_count": null,
   "outputs": [],
   "source": [
    "i = 0\n",
    "utility_details = {}\n",
    "utility_df = pd.DataFrame()\n",
    "\n",
    "while True:\n",
    "    utility_details = {\"time\": time.gmtime(), \"cpu_percentage\": psutil.cpu_percent(), \"gpu_percentage\": psutil.disk_usage()}\n",
    "    utility_df.append(utility_details)\n",
    "    print(utility_details)\n",
    "    sleep(2)"
   ],
   "metadata": {
    "collapsed": false,
    "pycharm": {
     "name": "#%%\n"
    }
   }
  }
 ],
 "metadata": {
  "kernelspec": {
   "display_name": "Python 3",
   "language": "python",
   "name": "python3"
  },
  "language_info": {
   "codemirror_mode": {
    "name": "ipython",
    "version": 2
   },
   "file_extension": ".py",
   "mimetype": "text/x-python",
   "name": "python",
   "nbconvert_exporter": "python",
   "pygments_lexer": "ipython2",
   "version": "2.7.6"
  }
 },
 "nbformat": 4,
 "nbformat_minor": 0
}