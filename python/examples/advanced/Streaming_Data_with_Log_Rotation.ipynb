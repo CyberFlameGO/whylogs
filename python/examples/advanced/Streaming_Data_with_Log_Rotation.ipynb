{
 "cells": [
  {
   "cell_type": "markdown",
   "source": [
    "# Rolling Logs with Streaming Data\n",
    "[![Open in Colab](https://colab.research.google.com/assets/colab-badge.svg)](https://colab.research.google.com/github/whylabs/whylogs/blob/mainline/python/examples/advanced/Streaming_Data_with_Log_Rotation.ipynb)\n",
    "\n",
    "Now that you've become family with the [\"Getting Started\"](https://github.com/whylabs/whylogs/blob/9618e5dd6570bc484579ec1325f2f512ff56977f/python/examples/basic/Getting_Started.ipynb) and the basic examples, let's see what else whylogs can be used for! So far, you've seen it ingest rows and dataframes during the logging process, but now let's look at ways to handle large amounts of changing data such as streaming with ... rolling logs! (sometimes also called log rotation)\n",
    "\n",
    "Instead of needing to plan out how you log in intervals with batching we handle all of that for you. The Logger will create your session, log information at the requested intervals of seconds, minutes, hours, or days and at that interval write out your profile to a .bin file and flush the log getting ready to receive more data."
   ],
   "metadata": {
    "collapsed": false,
    "pycharm": {
     "name": "#%% md\n"
    }
   }
  },
  {
   "cell_type": "markdown",
   "source": [
    "#### Why would you want this?\n",
    "Well, logging data throughout a given time period allows a higher grain of precision to your statistical profiles, and having these logs written regularly not only ensures their safety but also allows more options for merging profiles when it comes time for analysis. We'll go into that in depth in the [\"Merging Profiles\"](https://github.com/whylabs/whylogs/blob/9618e5dd6570bc484579ec1325f2f512ff56977f/python/examples/basic/Merging_Profiles.ipynb) notebook, but you can also see a simple example of it at the end of this notebook.\n",
    "\n",
    "We recommend that you have multiple intervals per timeline of your analysis. For example, if you want to look at the changes daily taking it at least hourly will help get a good profile estimation. Doing it too frequently where a profile may only have a couple lines is not preferred so play around with the balance that is right for your needs."
   ],
   "metadata": {
    "collapsed": false,
    "pycharm": {
     "name": "#%% md\n"
    }
   }
  },
  {
   "cell_type": "markdown",
   "source": [
    "## Simple Example using Bitcoin Ticker\n",
    "To start off, let's see how logging works; this will be an extremely basic example to show the syntax. We'll get data from BlockChain's ticker as this Jupyter notebook runs. To make you not wait for too long I'll have it run while constantly gathering data and rolling over the file every 20 seconds. This will give enough data for an example for the notebook without making you wait too long.\n",
    "\n",
    "The data picked is just a pull of the json API from the given website being used over time. This allows for easy streaming into a Jupyter that is quick and consistently changing, but in reality this is where you'd want to hook up your predictive models, larger data, CSV, etc."
   ],
   "metadata": {
    "collapsed": false,
    "pycharm": {
     "name": "#%% md\n"
    }
   }
  },
  {
   "cell_type": "markdown",
   "source": [
    "#### Imports\n",
    "First let's make sure we have everything installed and ready for input. We will be using the file structure to record the .bin files, and \"psutil\" to get the CPU information."
   ],
   "metadata": {
    "collapsed": false,
    "pycharm": {
     "name": "#%% md\n"
    }
   }
  },
  {
   "cell_type": "code",
   "execution_count": 1,
   "outputs": [
    {
     "name": "stdout",
     "output_type": "stream",
     "text": [
      "Requirement already satisfied: psutil in /Users/melanie/Dev/whylogs-v1/python/.venv/lib/python3.9/site-packages (5.9.0)\r\n",
      "\u001B[33mWARNING: You are using pip version 22.0.3; however, version 22.1.2 is available.\r\n",
      "You should consider upgrading via the '/Users/melanie/Dev/whylogs-v1/python/.venv/bin/python -m pip install --upgrade pip' command.\u001B[0m\u001B[33m\r\n",
      "\u001B[0mRequirement already satisfied: whylogs in /Users/melanie/Dev/whylogs-v1/python/.venv/lib/python3.9/site-packages (1.0.0rc0)\r\n",
      "Requirement already satisfied: flake8==4.0.1 in /Users/melanie/Dev/whylogs-v1/python/.venv/lib/python3.9/site-packages (from whylogs) (4.0.1)\r\n",
      "Requirement already satisfied: protobuf>=3.15.5 in /Users/melanie/Dev/whylogs-v1/python/.venv/lib/python3.9/site-packages (from whylogs) (3.20.1)\r\n",
      "Requirement already satisfied: typing-extensions in /Users/melanie/Dev/whylogs-v1/python/.venv/lib/python3.9/site-packages (from whylogs) (4.2.0)\r\n",
      "Requirement already satisfied: whylogs-sketching==3.4.0.dev9 in /Users/melanie/Dev/whylogs-v1/python/.venv/lib/python3.9/site-packages (from whylogs) (3.4.0.dev9)\r\n",
      "Requirement already satisfied: pyflakes<2.5.0,>=2.4.0 in /Users/melanie/Dev/whylogs-v1/python/.venv/lib/python3.9/site-packages (from flake8==4.0.1->whylogs) (2.4.0)\r\n",
      "Requirement already satisfied: pycodestyle<2.9.0,>=2.8.0 in /Users/melanie/Dev/whylogs-v1/python/.venv/lib/python3.9/site-packages (from flake8==4.0.1->whylogs) (2.8.0)\r\n",
      "Requirement already satisfied: mccabe<0.7.0,>=0.6.0 in /Users/melanie/Dev/whylogs-v1/python/.venv/lib/python3.9/site-packages (from flake8==4.0.1->whylogs) (0.6.1)\r\n",
      "\u001B[33mWARNING: You are using pip version 22.0.3; however, version 22.1.2 is available.\r\n",
      "You should consider upgrading via the '/Users/melanie/Dev/whylogs-v1/python/.venv/bin/python -m pip install --upgrade pip' command.\u001B[0m\u001B[33m\r\n",
      "\u001B[0m"
     ]
    },
    {
     "ename": "FileExistsError",
     "evalue": "[Errno 17] File exists: '/Users/melanie/Dev/whylogs/python/examples/advanced/example_output'",
     "output_type": "error",
     "traceback": [
      "\u001B[0;31m---------------------------------------------------------------------------\u001B[0m",
      "\u001B[0;31mFileExistsError\u001B[0m                           Traceback (most recent call last)",
      "\u001B[0;32m/var/folders/l2/gclnndpj2bv1x_qyjts0c7tc0000gn/T/ipykernel_40130/1316428688.py\u001B[0m in \u001B[0;36m<cell line: 13>\u001B[0;34m()\u001B[0m\n\u001B[1;32m     11\u001B[0m \u001B[0;34m\u001B[0m\u001B[0m\n\u001B[1;32m     12\u001B[0m \u001B[0mtmp_path\u001B[0m \u001B[0;34m=\u001B[0m \u001B[0mos\u001B[0m\u001B[0;34m.\u001B[0m\u001B[0mpath\u001B[0m\u001B[0;34m.\u001B[0m\u001B[0mjoin\u001B[0m\u001B[0;34m(\u001B[0m\u001B[0mos\u001B[0m\u001B[0;34m.\u001B[0m\u001B[0mgetcwd\u001B[0m\u001B[0;34m(\u001B[0m\u001B[0;34m)\u001B[0m\u001B[0;34m,\u001B[0m \u001B[0;34m\"example_output\"\u001B[0m\u001B[0;34m)\u001B[0m\u001B[0;34m\u001B[0m\u001B[0;34m\u001B[0m\u001B[0m\n\u001B[0;32m---> 13\u001B[0;31m \u001B[0mos\u001B[0m\u001B[0;34m.\u001B[0m\u001B[0mmakedirs\u001B[0m\u001B[0;34m(\u001B[0m\u001B[0mtmp_path\u001B[0m\u001B[0;34m)\u001B[0m\u001B[0;34m\u001B[0m\u001B[0;34m\u001B[0m\u001B[0m\n\u001B[0m",
      "\u001B[0;32m~/opt/anaconda3/lib/python3.9/os.py\u001B[0m in \u001B[0;36mmakedirs\u001B[0;34m(name, mode, exist_ok)\u001B[0m\n\u001B[1;32m    223\u001B[0m             \u001B[0;32mreturn\u001B[0m\u001B[0;34m\u001B[0m\u001B[0;34m\u001B[0m\u001B[0m\n\u001B[1;32m    224\u001B[0m     \u001B[0;32mtry\u001B[0m\u001B[0;34m:\u001B[0m\u001B[0;34m\u001B[0m\u001B[0;34m\u001B[0m\u001B[0m\n\u001B[0;32m--> 225\u001B[0;31m         \u001B[0mmkdir\u001B[0m\u001B[0;34m(\u001B[0m\u001B[0mname\u001B[0m\u001B[0;34m,\u001B[0m \u001B[0mmode\u001B[0m\u001B[0;34m)\u001B[0m\u001B[0;34m\u001B[0m\u001B[0;34m\u001B[0m\u001B[0m\n\u001B[0m\u001B[1;32m    226\u001B[0m     \u001B[0;32mexcept\u001B[0m \u001B[0mOSError\u001B[0m\u001B[0;34m:\u001B[0m\u001B[0;34m\u001B[0m\u001B[0;34m\u001B[0m\u001B[0m\n\u001B[1;32m    227\u001B[0m         \u001B[0;31m# Cannot rely on checking for EEXIST, since the operating system\u001B[0m\u001B[0;34m\u001B[0m\u001B[0;34m\u001B[0m\u001B[0m\n",
      "\u001B[0;31mFileExistsError\u001B[0m: [Errno 17] File exists: '/Users/melanie/Dev/whylogs/python/examples/advanced/example_output'"
     ]
    }
   ],
   "source": [
    "import pandas as pd\n",
    "!pip install psutil\n",
    "!pip install whylogs\n",
    "\n",
    "import time\n",
    "import whylogs as why\n",
    "\n",
    "import os\n",
    "from os import listdir\n",
    "from os.path import isfile\n",
    "\n",
    "tmp_path = os.path.join(os.getcwd(), \"example_output\")\n",
    "\n",
    "if not os.path.isdir(tmp_path):\n",
    "    os.makedirs(tmp_path)"
   ],
   "metadata": {
    "collapsed": false,
    "pycharm": {
     "name": "#%%\n"
    }
   }
  },
  {
   "cell_type": "markdown",
   "source": [
    "Here is a super simple function to see the amount of files that are here before and after the logging."
   ],
   "metadata": {
    "collapsed": false,
    "pycharm": {
     "name": "#%% md\n"
    }
   }
  },
  {
   "cell_type": "code",
   "execution_count": 2,
   "outputs": [
    {
     "name": "stdout",
     "output_type": "stream",
     "text": [
      "10\n"
     ]
    }
   ],
   "source": [
    "def count_files(tmp_path):\n",
    "    only_files = [f for f in listdir(tmp_path) if isfile(os.path.join(tmp_path, f))]\n",
    "    return len(only_files)\n",
    "\n",
    "print(count_files(tmp_path))"
   ],
   "metadata": {
    "collapsed": false,
    "pycharm": {
     "name": "#%%\n"
    }
   }
  },
  {
   "cell_type": "markdown",
   "source": [
    "Now it's on to the actual logging! We will first create the logger, mark it as \"rolling\", and set the interval in terms of Seconds, Minutes, Hours, or Days. Lastly we want to make sure we give it the base file name, and create a writer. For this example we will be using the local writer to put files on the local system. We will have this running in this case continuously, but feel free to play with the time.sleep to see how different intervals and number of entries work."
   ],
   "metadata": {
    "collapsed": false,
    "pycharm": {
     "name": "#%% md\n"
    }
   }
  },
  {
   "cell_type": "code",
   "execution_count": 3,
   "outputs": [
    {
     "name": "stdout",
     "output_type": "stream",
     "text": [
      "Log number:100     Logged Files: 1\n",
      "Log number:200     Logged Files: 1\n",
      "Log number:300     Logged Files: 2\n",
      "Log number:400     Logged Files: 3\n",
      "Log number:500     Logged Files: 4\n",
      "Log number:600     Logged Files: 5\n",
      "Log number:700     Logged Files: 6\n",
      "Log number:800     Logged Files: 7\n",
      "Log number:900     Logged Files: 8\n",
      "Log number:1000     Logged Files: 9\n"
     ]
    },
    {
     "ename": "KeyboardInterrupt",
     "evalue": "",
     "output_type": "error",
     "traceback": [
      "\u001B[0;31m---------------------------------------------------------------------------\u001B[0m",
      "\u001B[0;31mKeyboardInterrupt\u001B[0m                         Traceback (most recent call last)",
      "\u001B[0;32m/var/folders/l2/gclnndpj2bv1x_qyjts0c7tc0000gn/T/ipykernel_75031/479877607.py\u001B[0m in \u001B[0;36m<cell line: 3>\u001B[0;34m()\u001B[0m\n\u001B[1;32m      8\u001B[0m         \u001B[0mlog_number\u001B[0m \u001B[0;34m+=\u001B[0m \u001B[0;36m1\u001B[0m\u001B[0;34m\u001B[0m\u001B[0;34m\u001B[0m\u001B[0m\n\u001B[1;32m      9\u001B[0m         \u001B[0mbitcoin_ticker_df\u001B[0m \u001B[0;34m=\u001B[0m \u001B[0mpd\u001B[0m\u001B[0;34m.\u001B[0m\u001B[0mread_json\u001B[0m\u001B[0;34m(\u001B[0m\u001B[0murl\u001B[0m\u001B[0;34m)\u001B[0m\u001B[0;34m\u001B[0m\u001B[0;34m\u001B[0m\u001B[0m\n\u001B[0;32m---> 10\u001B[0;31m         \u001B[0mlogger\u001B[0m\u001B[0;34m.\u001B[0m\u001B[0mlog\u001B[0m\u001B[0;34m(\u001B[0m\u001B[0mbitcoin_ticker_df\u001B[0m\u001B[0;34m)\u001B[0m\u001B[0;34m\u001B[0m\u001B[0;34m\u001B[0m\u001B[0m\n\u001B[0m\u001B[1;32m     11\u001B[0m         \u001B[0;32mif\u001B[0m \u001B[0mlog_number\u001B[0m \u001B[0;34m%\u001B[0m \u001B[0;36m100\u001B[0m \u001B[0;34m==\u001B[0m \u001B[0;36m0\u001B[0m\u001B[0;34m:\u001B[0m\u001B[0;34m\u001B[0m\u001B[0;34m\u001B[0m\u001B[0m\n\u001B[1;32m     12\u001B[0m             print(\"Log number:\" + str(log_number) +\n",
      "\u001B[0;32m~/Dev/whylogs/python/whylogs/api/logger/logger.py\u001B[0m in \u001B[0;36mlog\u001B[0;34m(self, obj, pandas, row)\u001B[0m\n\u001B[1;32m     66\u001B[0m \u001B[0;34m\u001B[0m\u001B[0m\n\u001B[1;32m     67\u001B[0m         \u001B[0;32mfor\u001B[0m \u001B[0mprof\u001B[0m \u001B[0;32min\u001B[0m \u001B[0mprofiles\u001B[0m\u001B[0;34m:\u001B[0m\u001B[0;34m\u001B[0m\u001B[0;34m\u001B[0m\u001B[0m\n\u001B[0;32m---> 68\u001B[0;31m             \u001B[0mprof\u001B[0m\u001B[0;34m.\u001B[0m\u001B[0mtrack\u001B[0m\u001B[0;34m(\u001B[0m\u001B[0mobj\u001B[0m\u001B[0;34m,\u001B[0m \u001B[0mpandas\u001B[0m\u001B[0;34m=\u001B[0m\u001B[0mpandas\u001B[0m\u001B[0;34m,\u001B[0m \u001B[0mrow\u001B[0m\u001B[0;34m=\u001B[0m\u001B[0mrow\u001B[0m\u001B[0;34m)\u001B[0m\u001B[0;34m\u001B[0m\u001B[0;34m\u001B[0m\u001B[0m\n\u001B[0m\u001B[1;32m     69\u001B[0m \u001B[0;34m\u001B[0m\u001B[0m\n\u001B[1;32m     70\u001B[0m         \u001B[0;32mreturn\u001B[0m \u001B[0mProfileResultSet\u001B[0m\u001B[0;34m(\u001B[0m\u001B[0mprofiles\u001B[0m\u001B[0;34m[\u001B[0m\u001B[0;36m0\u001B[0m\u001B[0;34m]\u001B[0m\u001B[0;34m)\u001B[0m\u001B[0;34m\u001B[0m\u001B[0;34m\u001B[0m\u001B[0m\n",
      "\u001B[0;32m~/Dev/whylogs/python/whylogs/core/dataset_profile.py\u001B[0m in \u001B[0;36mtrack\u001B[0;34m(self, obj, pandas, row)\u001B[0m\n\u001B[1;32m     81\u001B[0m             \u001B[0mself\u001B[0m\u001B[0;34m.\u001B[0m\u001B[0m_is_active\u001B[0m \u001B[0;34m=\u001B[0m \u001B[0;32mTrue\u001B[0m\u001B[0;34m\u001B[0m\u001B[0;34m\u001B[0m\u001B[0m\n\u001B[1;32m     82\u001B[0m             \u001B[0mself\u001B[0m\u001B[0;34m.\u001B[0m\u001B[0m_track_count\u001B[0m \u001B[0;34m+=\u001B[0m \u001B[0;36m1\u001B[0m\u001B[0;34m\u001B[0m\u001B[0;34m\u001B[0m\u001B[0m\n\u001B[0;32m---> 83\u001B[0;31m             \u001B[0mself\u001B[0m\u001B[0;34m.\u001B[0m\u001B[0m_do_track\u001B[0m\u001B[0;34m(\u001B[0m\u001B[0mobj\u001B[0m\u001B[0;34m,\u001B[0m \u001B[0mpandas\u001B[0m\u001B[0;34m=\u001B[0m\u001B[0mpandas\u001B[0m\u001B[0;34m,\u001B[0m \u001B[0mrow\u001B[0m\u001B[0;34m=\u001B[0m\u001B[0mrow\u001B[0m\u001B[0;34m)\u001B[0m\u001B[0;34m\u001B[0m\u001B[0;34m\u001B[0m\u001B[0m\n\u001B[0m\u001B[1;32m     84\u001B[0m         \u001B[0;32mfinally\u001B[0m\u001B[0;34m:\u001B[0m\u001B[0;34m\u001B[0m\u001B[0;34m\u001B[0m\u001B[0m\n\u001B[1;32m     85\u001B[0m             \u001B[0mself\u001B[0m\u001B[0;34m.\u001B[0m\u001B[0m_is_active\u001B[0m \u001B[0;34m=\u001B[0m \u001B[0;32mFalse\u001B[0m\u001B[0;34m\u001B[0m\u001B[0;34m\u001B[0m\u001B[0m\n",
      "\u001B[0;32m~/Dev/whylogs/python/whylogs/core/dataset_profile.py\u001B[0m in \u001B[0;36m_do_track\u001B[0;34m(self, obj, pandas, row)\u001B[0m\n\u001B[1;32m    119\u001B[0m         \u001B[0;32mif\u001B[0m \u001B[0mpandas\u001B[0m \u001B[0;32mis\u001B[0m \u001B[0;32mnot\u001B[0m \u001B[0;32mNone\u001B[0m\u001B[0;34m:\u001B[0m\u001B[0;34m\u001B[0m\u001B[0;34m\u001B[0m\u001B[0m\n\u001B[1;32m    120\u001B[0m             \u001B[0;32mfor\u001B[0m \u001B[0mk\u001B[0m \u001B[0;32min\u001B[0m \u001B[0mpandas\u001B[0m\u001B[0;34m.\u001B[0m\u001B[0mkeys\u001B[0m\u001B[0;34m(\u001B[0m\u001B[0;34m)\u001B[0m\u001B[0;34m:\u001B[0m\u001B[0;34m\u001B[0m\u001B[0;34m\u001B[0m\u001B[0m\n\u001B[0;32m--> 121\u001B[0;31m                 \u001B[0mself\u001B[0m\u001B[0;34m.\u001B[0m\u001B[0m_columns\u001B[0m\u001B[0;34m[\u001B[0m\u001B[0mk\u001B[0m\u001B[0;34m]\u001B[0m\u001B[0;34m.\u001B[0m\u001B[0mtrack_column\u001B[0m\u001B[0;34m(\u001B[0m\u001B[0mpandas\u001B[0m\u001B[0;34m[\u001B[0m\u001B[0mk\u001B[0m\u001B[0;34m]\u001B[0m\u001B[0;34m)\u001B[0m\u001B[0;34m\u001B[0m\u001B[0;34m\u001B[0m\u001B[0m\n\u001B[0m\u001B[1;32m    122\u001B[0m             \u001B[0;32mreturn\u001B[0m\u001B[0;34m\u001B[0m\u001B[0;34m\u001B[0m\u001B[0m\n\u001B[1;32m    123\u001B[0m \u001B[0;34m\u001B[0m\u001B[0m\n",
      "\u001B[0;32m~/Dev/whylogs/python/whylogs/core/column_profile.py\u001B[0m in \u001B[0;36mtrack_column\u001B[0;34m(self, series)\u001B[0m\n\u001B[1;32m     43\u001B[0m \u001B[0;34m\u001B[0m\u001B[0m\n\u001B[1;32m     44\u001B[0m     \u001B[0;32mdef\u001B[0m \u001B[0mtrack_column\u001B[0m\u001B[0;34m(\u001B[0m\u001B[0mself\u001B[0m\u001B[0;34m,\u001B[0m \u001B[0mseries\u001B[0m\u001B[0;34m:\u001B[0m \u001B[0mAny\u001B[0m\u001B[0;34m)\u001B[0m \u001B[0;34m->\u001B[0m \u001B[0;32mNone\u001B[0m\u001B[0;34m:\u001B[0m\u001B[0;34m\u001B[0m\u001B[0;34m\u001B[0m\u001B[0m\n\u001B[0;32m---> 45\u001B[0;31m         \u001B[0mex_col\u001B[0m \u001B[0;34m=\u001B[0m \u001B[0mPreprocessedColumn\u001B[0m\u001B[0;34m.\u001B[0m\u001B[0mapply\u001B[0m\u001B[0;34m(\u001B[0m\u001B[0mseries\u001B[0m\u001B[0;34m)\u001B[0m\u001B[0;34m\u001B[0m\u001B[0;34m\u001B[0m\u001B[0m\n\u001B[0m\u001B[1;32m     46\u001B[0m         \u001B[0;32mfor\u001B[0m \u001B[0mmetric\u001B[0m \u001B[0;32min\u001B[0m \u001B[0mself\u001B[0m\u001B[0;34m.\u001B[0m\u001B[0m_metrics\u001B[0m\u001B[0;34m.\u001B[0m\u001B[0mvalues\u001B[0m\u001B[0;34m(\u001B[0m\u001B[0;34m)\u001B[0m\u001B[0;34m:\u001B[0m\u001B[0;34m\u001B[0m\u001B[0;34m\u001B[0m\u001B[0m\n\u001B[1;32m     47\u001B[0m             \u001B[0mres\u001B[0m \u001B[0;34m=\u001B[0m \u001B[0mmetric\u001B[0m\u001B[0;34m.\u001B[0m\u001B[0mcolumnar_update\u001B[0m\u001B[0;34m(\u001B[0m\u001B[0mex_col\u001B[0m\u001B[0;34m)\u001B[0m\u001B[0;34m\u001B[0m\u001B[0;34m\u001B[0m\u001B[0m\n",
      "\u001B[0;32m~/Dev/whylogs/python/whylogs/core/preprocessing.py\u001B[0m in \u001B[0;36mapply\u001B[0;34m(data)\u001B[0m\n\u001B[1;32m    162\u001B[0m         \u001B[0mresult\u001B[0m\u001B[0;34m.\u001B[0m\u001B[0moriginal\u001B[0m \u001B[0;34m=\u001B[0m \u001B[0mdata\u001B[0m\u001B[0;34m\u001B[0m\u001B[0;34m\u001B[0m\u001B[0m\n\u001B[1;32m    163\u001B[0m         \u001B[0;32mif\u001B[0m \u001B[0misinstance\u001B[0m\u001B[0;34m(\u001B[0m\u001B[0mdata\u001B[0m\u001B[0;34m,\u001B[0m \u001B[0mpd\u001B[0m\u001B[0;34m.\u001B[0m\u001B[0mSeries\u001B[0m\u001B[0;34m)\u001B[0m\u001B[0;34m:\u001B[0m\u001B[0;34m\u001B[0m\u001B[0;34m\u001B[0m\u001B[0m\n\u001B[0;32m--> 164\u001B[0;31m             \u001B[0mresult\u001B[0m\u001B[0;34m.\u001B[0m\u001B[0m_pandas_split\u001B[0m\u001B[0;34m(\u001B[0m\u001B[0mdata\u001B[0m\u001B[0;34m)\u001B[0m\u001B[0;34m\u001B[0m\u001B[0;34m\u001B[0m\u001B[0m\n\u001B[0m\u001B[1;32m    165\u001B[0m             \u001B[0mresult\u001B[0m\u001B[0;34m.\u001B[0m\u001B[0mlen\u001B[0m \u001B[0;34m=\u001B[0m \u001B[0mlen\u001B[0m\u001B[0;34m(\u001B[0m\u001B[0mdata\u001B[0m\u001B[0;34m)\u001B[0m\u001B[0;34m\u001B[0m\u001B[0;34m\u001B[0m\u001B[0m\n\u001B[1;32m    166\u001B[0m             \u001B[0;32mreturn\u001B[0m \u001B[0mresult\u001B[0m\u001B[0;34m\u001B[0m\u001B[0;34m\u001B[0m\u001B[0m\n",
      "\u001B[0;32m~/Dev/whylogs/python/whylogs/core/preprocessing.py\u001B[0m in \u001B[0;36m_pandas_split\u001B[0;34m(self, series, parse_numeric_string)\u001B[0m\n\u001B[1;32m    130\u001B[0m             \u001B[0mnon_null_series\u001B[0m \u001B[0;34m=\u001B[0m \u001B[0mpd\u001B[0m\u001B[0;34m.\u001B[0m\u001B[0mto_numeric\u001B[0m\u001B[0;34m(\u001B[0m\u001B[0mnon_null_series\u001B[0m\u001B[0;34m,\u001B[0m \u001B[0merrors\u001B[0m\u001B[0;34m=\u001B[0m\u001B[0;34m\"ignore\"\u001B[0m\u001B[0;34m)\u001B[0m\u001B[0;34m\u001B[0m\u001B[0;34m\u001B[0m\u001B[0m\n\u001B[1;32m    131\u001B[0m \u001B[0;34m\u001B[0m\u001B[0m\n\u001B[0;32m--> 132\u001B[0;31m         \u001B[0mfloat_mask\u001B[0m \u001B[0;34m=\u001B[0m \u001B[0mnon_null_series\u001B[0m\u001B[0;34m.\u001B[0m\u001B[0mapply\u001B[0m\u001B[0;34m(\u001B[0m\u001B[0;32mlambda\u001B[0m \u001B[0mx\u001B[0m\u001B[0;34m:\u001B[0m \u001B[0mpdc\u001B[0m\u001B[0;34m.\u001B[0m\u001B[0mis_float\u001B[0m\u001B[0;34m(\u001B[0m\u001B[0mx\u001B[0m\u001B[0;34m)\u001B[0m \u001B[0;32mor\u001B[0m \u001B[0mpdc\u001B[0m\u001B[0;34m.\u001B[0m\u001B[0mis_decimal\u001B[0m\u001B[0;34m(\u001B[0m\u001B[0mx\u001B[0m\u001B[0;34m)\u001B[0m\u001B[0;34m)\u001B[0m\u001B[0;34m\u001B[0m\u001B[0;34m\u001B[0m\u001B[0m\n\u001B[0m\u001B[1;32m    133\u001B[0m         \u001B[0mbool_mask\u001B[0m \u001B[0;34m=\u001B[0m \u001B[0mnon_null_series\u001B[0m\u001B[0;34m.\u001B[0m\u001B[0mapply\u001B[0m\u001B[0;34m(\u001B[0m\u001B[0;32mlambda\u001B[0m \u001B[0mx\u001B[0m\u001B[0;34m:\u001B[0m \u001B[0mpdc\u001B[0m\u001B[0;34m.\u001B[0m\u001B[0mis_bool\u001B[0m\u001B[0;34m(\u001B[0m\u001B[0mx\u001B[0m\u001B[0;34m)\u001B[0m\u001B[0;34m)\u001B[0m\u001B[0;34m\u001B[0m\u001B[0;34m\u001B[0m\u001B[0m\n\u001B[1;32m    134\u001B[0m         \u001B[0mbool_mask_where_true\u001B[0m \u001B[0;34m=\u001B[0m \u001B[0mnon_null_series\u001B[0m\u001B[0;34m.\u001B[0m\u001B[0mapply\u001B[0m\u001B[0;34m(\u001B[0m\u001B[0;32mlambda\u001B[0m \u001B[0mx\u001B[0m\u001B[0;34m:\u001B[0m \u001B[0mpdc\u001B[0m\u001B[0;34m.\u001B[0m\u001B[0mis_bool\u001B[0m\u001B[0;34m(\u001B[0m\u001B[0mx\u001B[0m\u001B[0;34m)\u001B[0m \u001B[0;32mand\u001B[0m \u001B[0mx\u001B[0m\u001B[0;34m)\u001B[0m\u001B[0;34m\u001B[0m\u001B[0;34m\u001B[0m\u001B[0m\n",
      "\u001B[0;32m~/Dev/whylogs-v1/python/.venv/lib/python3.9/site-packages/pandas/core/series.py\u001B[0m in \u001B[0;36mapply\u001B[0;34m(self, func, convert_dtype, args, **kwargs)\u001B[0m\n\u001B[1;32m   4355\u001B[0m         \u001B[0mdtype\u001B[0m\u001B[0;34m:\u001B[0m \u001B[0mfloat64\u001B[0m\u001B[0;34m\u001B[0m\u001B[0;34m\u001B[0m\u001B[0m\n\u001B[1;32m   4356\u001B[0m         \"\"\"\n\u001B[0;32m-> 4357\u001B[0;31m         \u001B[0;32mreturn\u001B[0m \u001B[0mSeriesApply\u001B[0m\u001B[0;34m(\u001B[0m\u001B[0mself\u001B[0m\u001B[0;34m,\u001B[0m \u001B[0mfunc\u001B[0m\u001B[0;34m,\u001B[0m \u001B[0mconvert_dtype\u001B[0m\u001B[0;34m,\u001B[0m \u001B[0margs\u001B[0m\u001B[0;34m,\u001B[0m \u001B[0mkwargs\u001B[0m\u001B[0;34m)\u001B[0m\u001B[0;34m.\u001B[0m\u001B[0mapply\u001B[0m\u001B[0;34m(\u001B[0m\u001B[0;34m)\u001B[0m\u001B[0;34m\u001B[0m\u001B[0;34m\u001B[0m\u001B[0m\n\u001B[0m\u001B[1;32m   4358\u001B[0m \u001B[0;34m\u001B[0m\u001B[0m\n\u001B[1;32m   4359\u001B[0m     def _reduce(\n",
      "\u001B[0;32m~/Dev/whylogs-v1/python/.venv/lib/python3.9/site-packages/pandas/core/apply.py\u001B[0m in \u001B[0;36mapply\u001B[0;34m(self)\u001B[0m\n\u001B[1;32m   1041\u001B[0m             \u001B[0;32mreturn\u001B[0m \u001B[0mself\u001B[0m\u001B[0;34m.\u001B[0m\u001B[0mapply_str\u001B[0m\u001B[0;34m(\u001B[0m\u001B[0;34m)\u001B[0m\u001B[0;34m\u001B[0m\u001B[0;34m\u001B[0m\u001B[0m\n\u001B[1;32m   1042\u001B[0m \u001B[0;34m\u001B[0m\u001B[0m\n\u001B[0;32m-> 1043\u001B[0;31m         \u001B[0;32mreturn\u001B[0m \u001B[0mself\u001B[0m\u001B[0;34m.\u001B[0m\u001B[0mapply_standard\u001B[0m\u001B[0;34m(\u001B[0m\u001B[0;34m)\u001B[0m\u001B[0;34m\u001B[0m\u001B[0;34m\u001B[0m\u001B[0m\n\u001B[0m\u001B[1;32m   1044\u001B[0m \u001B[0;34m\u001B[0m\u001B[0m\n\u001B[1;32m   1045\u001B[0m     \u001B[0;32mdef\u001B[0m \u001B[0magg\u001B[0m\u001B[0;34m(\u001B[0m\u001B[0mself\u001B[0m\u001B[0;34m)\u001B[0m\u001B[0;34m:\u001B[0m\u001B[0;34m\u001B[0m\u001B[0;34m\u001B[0m\u001B[0m\n",
      "\u001B[0;32m~/Dev/whylogs-v1/python/.venv/lib/python3.9/site-packages/pandas/core/apply.py\u001B[0m in \u001B[0;36mapply_standard\u001B[0;34m(self)\u001B[0m\n\u001B[1;32m   1107\u001B[0m             \u001B[0;32mreturn\u001B[0m \u001B[0mobj\u001B[0m\u001B[0;34m.\u001B[0m\u001B[0m_constructor_expanddim\u001B[0m\u001B[0;34m(\u001B[0m\u001B[0mpd_array\u001B[0m\u001B[0;34m(\u001B[0m\u001B[0mmapped\u001B[0m\u001B[0;34m)\u001B[0m\u001B[0;34m,\u001B[0m \u001B[0mindex\u001B[0m\u001B[0;34m=\u001B[0m\u001B[0mobj\u001B[0m\u001B[0;34m.\u001B[0m\u001B[0mindex\u001B[0m\u001B[0;34m)\u001B[0m\u001B[0;34m\u001B[0m\u001B[0;34m\u001B[0m\u001B[0m\n\u001B[1;32m   1108\u001B[0m         \u001B[0;32melse\u001B[0m\u001B[0;34m:\u001B[0m\u001B[0;34m\u001B[0m\u001B[0;34m\u001B[0m\u001B[0m\n\u001B[0;32m-> 1109\u001B[0;31m             return obj._constructor(mapped, index=obj.index).__finalize__(\n\u001B[0m\u001B[1;32m   1110\u001B[0m                 \u001B[0mobj\u001B[0m\u001B[0;34m,\u001B[0m \u001B[0mmethod\u001B[0m\u001B[0;34m=\u001B[0m\u001B[0;34m\"apply\"\u001B[0m\u001B[0;34m\u001B[0m\u001B[0;34m\u001B[0m\u001B[0m\n\u001B[1;32m   1111\u001B[0m             )\n",
      "\u001B[0;32m~/Dev/whylogs-v1/python/.venv/lib/python3.9/site-packages/pandas/core/series.py\u001B[0m in \u001B[0;36m__init__\u001B[0;34m(self, data, index, dtype, name, copy, fastpath)\u001B[0m\n\u001B[1;32m    446\u001B[0m \u001B[0;34m\u001B[0m\u001B[0m\n\u001B[1;32m    447\u001B[0m         \u001B[0mgeneric\u001B[0m\u001B[0;34m.\u001B[0m\u001B[0mNDFrame\u001B[0m\u001B[0;34m.\u001B[0m\u001B[0m__init__\u001B[0m\u001B[0;34m(\u001B[0m\u001B[0mself\u001B[0m\u001B[0;34m,\u001B[0m \u001B[0mdata\u001B[0m\u001B[0;34m)\u001B[0m\u001B[0;34m\u001B[0m\u001B[0;34m\u001B[0m\u001B[0m\n\u001B[0;32m--> 448\u001B[0;31m         \u001B[0mself\u001B[0m\u001B[0;34m.\u001B[0m\u001B[0mname\u001B[0m \u001B[0;34m=\u001B[0m \u001B[0mname\u001B[0m\u001B[0;34m\u001B[0m\u001B[0;34m\u001B[0m\u001B[0m\n\u001B[0m\u001B[1;32m    449\u001B[0m         \u001B[0mself\u001B[0m\u001B[0;34m.\u001B[0m\u001B[0m_set_axis\u001B[0m\u001B[0;34m(\u001B[0m\u001B[0;36m0\u001B[0m\u001B[0;34m,\u001B[0m \u001B[0mindex\u001B[0m\u001B[0;34m,\u001B[0m \u001B[0mfastpath\u001B[0m\u001B[0;34m=\u001B[0m\u001B[0;32mTrue\u001B[0m\u001B[0;34m)\u001B[0m\u001B[0;34m\u001B[0m\u001B[0;34m\u001B[0m\u001B[0m\n\u001B[1;32m    450\u001B[0m \u001B[0;34m\u001B[0m\u001B[0m\n",
      "\u001B[0;32m~/Dev/whylogs-v1/python/.venv/lib/python3.9/site-packages/pandas/core/generic.py\u001B[0m in \u001B[0;36m__setattr__\u001B[0;34m(self, name, value)\u001B[0m\n\u001B[1;32m   5497\u001B[0m \u001B[0;34m\u001B[0m\u001B[0m\n\u001B[1;32m   5498\u001B[0m         \u001B[0;32mtry\u001B[0m\u001B[0;34m:\u001B[0m\u001B[0;34m\u001B[0m\u001B[0;34m\u001B[0m\u001B[0m\n\u001B[0;32m-> 5499\u001B[0;31m             \u001B[0mobject\u001B[0m\u001B[0;34m.\u001B[0m\u001B[0m__getattribute__\u001B[0m\u001B[0;34m(\u001B[0m\u001B[0mself\u001B[0m\u001B[0;34m,\u001B[0m \u001B[0mname\u001B[0m\u001B[0;34m)\u001B[0m\u001B[0;34m\u001B[0m\u001B[0;34m\u001B[0m\u001B[0m\n\u001B[0m\u001B[1;32m   5500\u001B[0m             \u001B[0;32mreturn\u001B[0m \u001B[0mobject\u001B[0m\u001B[0;34m.\u001B[0m\u001B[0m__setattr__\u001B[0m\u001B[0;34m(\u001B[0m\u001B[0mself\u001B[0m\u001B[0;34m,\u001B[0m \u001B[0mname\u001B[0m\u001B[0;34m,\u001B[0m \u001B[0mvalue\u001B[0m\u001B[0;34m)\u001B[0m\u001B[0;34m\u001B[0m\u001B[0;34m\u001B[0m\u001B[0m\n\u001B[1;32m   5501\u001B[0m         \u001B[0;32mexcept\u001B[0m \u001B[0mAttributeError\u001B[0m\u001B[0;34m:\u001B[0m\u001B[0;34m\u001B[0m\u001B[0;34m\u001B[0m\u001B[0m\n",
      "\u001B[0;32m~/Dev/whylogs-v1/python/.venv/lib/python3.9/site-packages/pandas/core/series.py\u001B[0m in \u001B[0;36mname\u001B[0;34m(self)\u001B[0m\n\u001B[1;32m    623\u001B[0m         \u001B[0;34m'Even Numbers'\u001B[0m\u001B[0;34m\u001B[0m\u001B[0;34m\u001B[0m\u001B[0m\n\u001B[1;32m    624\u001B[0m         \"\"\"\n\u001B[0;32m--> 625\u001B[0;31m         \u001B[0;32mreturn\u001B[0m \u001B[0mself\u001B[0m\u001B[0;34m.\u001B[0m\u001B[0m_name\u001B[0m\u001B[0;34m\u001B[0m\u001B[0;34m\u001B[0m\u001B[0m\n\u001B[0m\u001B[1;32m    626\u001B[0m \u001B[0;34m\u001B[0m\u001B[0m\n\u001B[1;32m    627\u001B[0m     \u001B[0;34m@\u001B[0m\u001B[0mname\u001B[0m\u001B[0;34m.\u001B[0m\u001B[0msetter\u001B[0m\u001B[0;34m\u001B[0m\u001B[0;34m\u001B[0m\u001B[0m\n",
      "\u001B[0;32m~/Dev/whylogs-v1/python/.venv/lib/python3.9/site-packages/pandas/core/generic.py\u001B[0m in \u001B[0;36m__getattr__\u001B[0;34m(self, name)\u001B[0m\n\u001B[1;32m   5485\u001B[0m         ):\n\u001B[1;32m   5486\u001B[0m             \u001B[0;32mreturn\u001B[0m \u001B[0mself\u001B[0m\u001B[0;34m[\u001B[0m\u001B[0mname\u001B[0m\u001B[0;34m]\u001B[0m\u001B[0;34m\u001B[0m\u001B[0;34m\u001B[0m\u001B[0m\n\u001B[0;32m-> 5487\u001B[0;31m         \u001B[0;32mreturn\u001B[0m \u001B[0mobject\u001B[0m\u001B[0;34m.\u001B[0m\u001B[0m__getattribute__\u001B[0m\u001B[0;34m(\u001B[0m\u001B[0mself\u001B[0m\u001B[0;34m,\u001B[0m \u001B[0mname\u001B[0m\u001B[0;34m)\u001B[0m\u001B[0;34m\u001B[0m\u001B[0;34m\u001B[0m\u001B[0m\n\u001B[0m\u001B[1;32m   5488\u001B[0m \u001B[0;34m\u001B[0m\u001B[0m\n\u001B[1;32m   5489\u001B[0m     \u001B[0;32mdef\u001B[0m \u001B[0m__setattr__\u001B[0m\u001B[0;34m(\u001B[0m\u001B[0mself\u001B[0m\u001B[0;34m,\u001B[0m \u001B[0mname\u001B[0m\u001B[0;34m:\u001B[0m \u001B[0mstr\u001B[0m\u001B[0;34m,\u001B[0m \u001B[0mvalue\u001B[0m\u001B[0;34m)\u001B[0m \u001B[0;34m->\u001B[0m \u001B[0;32mNone\u001B[0m\u001B[0;34m:\u001B[0m\u001B[0;34m\u001B[0m\u001B[0;34m\u001B[0m\u001B[0m\n",
      "\u001B[0;31mKeyboardInterrupt\u001B[0m: "
     ]
    }
   ],
   "source": [
    "url = \"https://blockchain.info/ticker\"\n",
    "\n",
    "with why.logger(mode=\"rolling\", interval=30, when=\"S\", base_name=\"cpu_streaming_data\") as logger:\n",
    "    logger.append_writer(\"local\", base_dir=tmp_path)\n",
    "    log_number=0\n",
    "\n",
    "    #  You may prefer to do a \"while true\" or until a certain time.\n",
    "    #  log_number < 1000 is limited for this example\n",
    "    while log_number < 1000:\n",
    "        log_number += 1\n",
    "        bitcoin_ticker_df = pd.read_json(url)\n",
    "        logger.log(bitcoin_ticker_df)\n",
    "        if log_number % 100 == 0:\n",
    "            print(\"Log number:\" + str(log_number) +\n",
    "              \"     Logged Files: \" + str(count_files(tmp_path)))\n",
    "        time.sleep(0)"
   ],
   "metadata": {
    "collapsed": false,
    "pycharm": {
     "name": "#%%\n"
    }
   }
  },
  {
   "cell_type": "markdown",
   "source": [
    "## Merging Profiles from .bin\n",
    "Ok, so we have saved .bin!! Huzzah! .... and what do we do with them?\n",
    "\n",
    "Let us read them in from our local file system and merge them in a couple of ways. Please check out the [\"Merging Profile\"](https://github.com/whylabs/whylogs/blob/9618e5dd6570bc484579ec1325f2f512ff56977f/python/examples/basic/Merging_Profiles.ipynb) notebook for an indepth."
   ],
   "metadata": {
    "collapsed": false,
    "pycharm": {
     "name": "#%% md\n"
    }
   }
  },
  {
   "cell_type": "code",
   "execution_count": 5,
   "outputs": [
    {
     "data": {
      "text/plain": "        types/integral  types/fractional  types/boolean  types/string  \\\ncolumn                                                                  \nARS                  0               348              0            87   \nAUD                  0               348              0            87   \nBRL                  0               348              0            87   \nCAD                  0               348              0            87   \nCHF                  0               348              0            87   \nCLP                  0               348              0            87   \nCNY                  0               348              0            87   \nCZK                  0               348              0            87   \nDKK                  0               348              0            87   \nEUR                  0               348              0            87   \nGBP                  0               348              0            87   \nHKD                  0               348              0            87   \nHRK                  0               348              0            87   \nHUF                  0               348              0            87   \nINR                  0               348              0            87   \nISK                  0               348              0            87   \nJPY                  0               348              0            87   \nKRW                  0               348              0            87   \nNZD                  0               348              0            87   \nPLN                  0               348              0            87   \nRON                  0               348              0            87   \nRUB                  0               348              0            87   \nSEK                  0               348              0            87   \nSGD                  0               348              0            87   \nTHB                  0               348              0            87   \nTRY                  0               348              0            87   \nTWD                  0               348              0            87   \nUSD                  0               348              0            87   \n\n        types/object                    frequent_items/frequent_strings  \\\ncolumn                                                                    \nARS                0  [FrequentItem(value='6182689.120000', est=348,...   \nAUD                0  [FrequentItem(value='41940.220000', est=348, u...   \nBRL                0  [FrequentItem(value='146974.050000', est=348, ...   \nCAD                0  [FrequentItem(value='38361.840000', est=348, u...   \nCHF                0  [FrequentItem(value='29233.740000', est=348, u...   \nCLP                0  [FrequentItem(value='24975449.530000', est=348...   \nCNY                0  [FrequentItem(value='191407.130000', est=348, ...   \nCZK                0  [FrequentItem(value='702678.710000', est=348, ...   \nDKK                0  [FrequentItem(value='212351.240000', est=348, ...   \nEUR                0  [FrequentItem(value='28397.200000', est=348, u...   \nGBP                0  [FrequentItem(value='24278.890000', est=348, u...   \nHKD                0  [FrequentItem(value='239009.470000', est=348, ...   \nHRK                0  [FrequentItem(value='227532.550000', est=348, ...   \nHUF                0  [FrequentItem(value='11769078.100000', est=348...   \nINR                0  [FrequentItem(value='2355155.120000', est=348,...   \nISK                0  [FrequentItem(value='5803463.390000', est=348,...   \nJPY                0  [FrequentItem(value='3964515.290000', est=348,...   \nKRW                0  [FrequentItem(value='38305703.320000', est=348...   \nNZD                0  [FrequentItem(value='46574.740000', est=348, u...   \nPLN                0  [FrequentItem(value='156548.500000', est=348, ...   \nRON                0  [FrequentItem(value='63684.860000', est=348, u...   \nRUB                0  [FrequentItem(value='1948580.000000', est=348,...   \nSEK                0  [FrequentItem(value='281589.650000', est=348, ...   \nSGD                0  [FrequentItem(value='41714.920000', est=348, u...   \nTHB                0  [FrequentItem(value='1043140.140000', est=348,...   \nTRY                0  [FrequentItem(value='506301.630000', est=348, ...   \nTWD                0  [FrequentItem(value='15192482.290000', est=348...   \nUSD                0  [FrequentItem(value='30518.570000', est=348, u...   \n\n        counts/n  counts/null  cardinality/est  cardinality/upper_1  \\\ncolumn                                                                \nARS          435            0              2.0               2.0001   \nAUD          435            0              2.0               2.0001   \nBRL          435            0              2.0               2.0001   \nCAD          435            0              2.0               2.0001   \nCHF          435            0              2.0               2.0001   \nCLP          435            0              2.0               2.0001   \nCNY          435            0              2.0               2.0001   \nCZK          435            0              2.0               2.0001   \nDKK          435            0              2.0               2.0001   \nEUR          435            0              2.0               2.0001   \nGBP          435            0              2.0               2.0001   \nHKD          435            0              2.0               2.0001   \nHRK          435            0              2.0               2.0001   \nHUF          435            0              2.0               2.0001   \nINR          435            0              2.0               2.0001   \nISK          435            0              2.0               2.0001   \nJPY          435            0              2.0               2.0001   \nKRW          435            0              2.0               2.0001   \nNZD          435            0              2.0               2.0001   \nPLN          435            0              2.0               2.0001   \nRON          435            0              2.0               2.0001   \nRUB          435            0              2.0               2.0001   \nSEK          435            0              2.0               2.0001   \nSGD          435            0              2.0               2.0001   \nTHB          435            0              2.0               2.0001   \nTRY          435            0              2.0               2.0001   \nTWD          435            0              2.0               2.0001   \nUSD          435            0              2.0               2.0001   \n\n        cardinality/lower_1                type  \ncolumn                                           \nARS                     2.0  SummaryType.COLUMN  \nAUD                     2.0  SummaryType.COLUMN  \nBRL                     2.0  SummaryType.COLUMN  \nCAD                     2.0  SummaryType.COLUMN  \nCHF                     2.0  SummaryType.COLUMN  \nCLP                     2.0  SummaryType.COLUMN  \nCNY                     2.0  SummaryType.COLUMN  \nCZK                     2.0  SummaryType.COLUMN  \nDKK                     2.0  SummaryType.COLUMN  \nEUR                     2.0  SummaryType.COLUMN  \nGBP                     2.0  SummaryType.COLUMN  \nHKD                     2.0  SummaryType.COLUMN  \nHRK                     2.0  SummaryType.COLUMN  \nHUF                     2.0  SummaryType.COLUMN  \nINR                     2.0  SummaryType.COLUMN  \nISK                     2.0  SummaryType.COLUMN  \nJPY                     2.0  SummaryType.COLUMN  \nKRW                     2.0  SummaryType.COLUMN  \nNZD                     2.0  SummaryType.COLUMN  \nPLN                     2.0  SummaryType.COLUMN  \nRON                     2.0  SummaryType.COLUMN  \nRUB                     2.0  SummaryType.COLUMN  \nSEK                     2.0  SummaryType.COLUMN  \nSGD                     2.0  SummaryType.COLUMN  \nTHB                     2.0  SummaryType.COLUMN  \nTRY                     2.0  SummaryType.COLUMN  \nTWD                     2.0  SummaryType.COLUMN  \nUSD                     2.0  SummaryType.COLUMN  ",
      "text/html": "<div>\n<style scoped>\n    .dataframe tbody tr th:only-of-type {\n        vertical-align: middle;\n    }\n\n    .dataframe tbody tr th {\n        vertical-align: top;\n    }\n\n    .dataframe thead th {\n        text-align: right;\n    }\n</style>\n<table border=\"1\" class=\"dataframe\">\n  <thead>\n    <tr style=\"text-align: right;\">\n      <th></th>\n      <th>types/integral</th>\n      <th>types/fractional</th>\n      <th>types/boolean</th>\n      <th>types/string</th>\n      <th>types/object</th>\n      <th>frequent_items/frequent_strings</th>\n      <th>counts/n</th>\n      <th>counts/null</th>\n      <th>cardinality/est</th>\n      <th>cardinality/upper_1</th>\n      <th>cardinality/lower_1</th>\n      <th>type</th>\n    </tr>\n    <tr>\n      <th>column</th>\n      <th></th>\n      <th></th>\n      <th></th>\n      <th></th>\n      <th></th>\n      <th></th>\n      <th></th>\n      <th></th>\n      <th></th>\n      <th></th>\n      <th></th>\n      <th></th>\n    </tr>\n  </thead>\n  <tbody>\n    <tr>\n      <th>ARS</th>\n      <td>0</td>\n      <td>348</td>\n      <td>0</td>\n      <td>87</td>\n      <td>0</td>\n      <td>[FrequentItem(value='6182689.120000', est=348,...</td>\n      <td>435</td>\n      <td>0</td>\n      <td>2.0</td>\n      <td>2.0001</td>\n      <td>2.0</td>\n      <td>SummaryType.COLUMN</td>\n    </tr>\n    <tr>\n      <th>AUD</th>\n      <td>0</td>\n      <td>348</td>\n      <td>0</td>\n      <td>87</td>\n      <td>0</td>\n      <td>[FrequentItem(value='41940.220000', est=348, u...</td>\n      <td>435</td>\n      <td>0</td>\n      <td>2.0</td>\n      <td>2.0001</td>\n      <td>2.0</td>\n      <td>SummaryType.COLUMN</td>\n    </tr>\n    <tr>\n      <th>BRL</th>\n      <td>0</td>\n      <td>348</td>\n      <td>0</td>\n      <td>87</td>\n      <td>0</td>\n      <td>[FrequentItem(value='146974.050000', est=348, ...</td>\n      <td>435</td>\n      <td>0</td>\n      <td>2.0</td>\n      <td>2.0001</td>\n      <td>2.0</td>\n      <td>SummaryType.COLUMN</td>\n    </tr>\n    <tr>\n      <th>CAD</th>\n      <td>0</td>\n      <td>348</td>\n      <td>0</td>\n      <td>87</td>\n      <td>0</td>\n      <td>[FrequentItem(value='38361.840000', est=348, u...</td>\n      <td>435</td>\n      <td>0</td>\n      <td>2.0</td>\n      <td>2.0001</td>\n      <td>2.0</td>\n      <td>SummaryType.COLUMN</td>\n    </tr>\n    <tr>\n      <th>CHF</th>\n      <td>0</td>\n      <td>348</td>\n      <td>0</td>\n      <td>87</td>\n      <td>0</td>\n      <td>[FrequentItem(value='29233.740000', est=348, u...</td>\n      <td>435</td>\n      <td>0</td>\n      <td>2.0</td>\n      <td>2.0001</td>\n      <td>2.0</td>\n      <td>SummaryType.COLUMN</td>\n    </tr>\n    <tr>\n      <th>CLP</th>\n      <td>0</td>\n      <td>348</td>\n      <td>0</td>\n      <td>87</td>\n      <td>0</td>\n      <td>[FrequentItem(value='24975449.530000', est=348...</td>\n      <td>435</td>\n      <td>0</td>\n      <td>2.0</td>\n      <td>2.0001</td>\n      <td>2.0</td>\n      <td>SummaryType.COLUMN</td>\n    </tr>\n    <tr>\n      <th>CNY</th>\n      <td>0</td>\n      <td>348</td>\n      <td>0</td>\n      <td>87</td>\n      <td>0</td>\n      <td>[FrequentItem(value='191407.130000', est=348, ...</td>\n      <td>435</td>\n      <td>0</td>\n      <td>2.0</td>\n      <td>2.0001</td>\n      <td>2.0</td>\n      <td>SummaryType.COLUMN</td>\n    </tr>\n    <tr>\n      <th>CZK</th>\n      <td>0</td>\n      <td>348</td>\n      <td>0</td>\n      <td>87</td>\n      <td>0</td>\n      <td>[FrequentItem(value='702678.710000', est=348, ...</td>\n      <td>435</td>\n      <td>0</td>\n      <td>2.0</td>\n      <td>2.0001</td>\n      <td>2.0</td>\n      <td>SummaryType.COLUMN</td>\n    </tr>\n    <tr>\n      <th>DKK</th>\n      <td>0</td>\n      <td>348</td>\n      <td>0</td>\n      <td>87</td>\n      <td>0</td>\n      <td>[FrequentItem(value='212351.240000', est=348, ...</td>\n      <td>435</td>\n      <td>0</td>\n      <td>2.0</td>\n      <td>2.0001</td>\n      <td>2.0</td>\n      <td>SummaryType.COLUMN</td>\n    </tr>\n    <tr>\n      <th>EUR</th>\n      <td>0</td>\n      <td>348</td>\n      <td>0</td>\n      <td>87</td>\n      <td>0</td>\n      <td>[FrequentItem(value='28397.200000', est=348, u...</td>\n      <td>435</td>\n      <td>0</td>\n      <td>2.0</td>\n      <td>2.0001</td>\n      <td>2.0</td>\n      <td>SummaryType.COLUMN</td>\n    </tr>\n    <tr>\n      <th>GBP</th>\n      <td>0</td>\n      <td>348</td>\n      <td>0</td>\n      <td>87</td>\n      <td>0</td>\n      <td>[FrequentItem(value='24278.890000', est=348, u...</td>\n      <td>435</td>\n      <td>0</td>\n      <td>2.0</td>\n      <td>2.0001</td>\n      <td>2.0</td>\n      <td>SummaryType.COLUMN</td>\n    </tr>\n    <tr>\n      <th>HKD</th>\n      <td>0</td>\n      <td>348</td>\n      <td>0</td>\n      <td>87</td>\n      <td>0</td>\n      <td>[FrequentItem(value='239009.470000', est=348, ...</td>\n      <td>435</td>\n      <td>0</td>\n      <td>2.0</td>\n      <td>2.0001</td>\n      <td>2.0</td>\n      <td>SummaryType.COLUMN</td>\n    </tr>\n    <tr>\n      <th>HRK</th>\n      <td>0</td>\n      <td>348</td>\n      <td>0</td>\n      <td>87</td>\n      <td>0</td>\n      <td>[FrequentItem(value='227532.550000', est=348, ...</td>\n      <td>435</td>\n      <td>0</td>\n      <td>2.0</td>\n      <td>2.0001</td>\n      <td>2.0</td>\n      <td>SummaryType.COLUMN</td>\n    </tr>\n    <tr>\n      <th>HUF</th>\n      <td>0</td>\n      <td>348</td>\n      <td>0</td>\n      <td>87</td>\n      <td>0</td>\n      <td>[FrequentItem(value='11769078.100000', est=348...</td>\n      <td>435</td>\n      <td>0</td>\n      <td>2.0</td>\n      <td>2.0001</td>\n      <td>2.0</td>\n      <td>SummaryType.COLUMN</td>\n    </tr>\n    <tr>\n      <th>INR</th>\n      <td>0</td>\n      <td>348</td>\n      <td>0</td>\n      <td>87</td>\n      <td>0</td>\n      <td>[FrequentItem(value='2355155.120000', est=348,...</td>\n      <td>435</td>\n      <td>0</td>\n      <td>2.0</td>\n      <td>2.0001</td>\n      <td>2.0</td>\n      <td>SummaryType.COLUMN</td>\n    </tr>\n    <tr>\n      <th>ISK</th>\n      <td>0</td>\n      <td>348</td>\n      <td>0</td>\n      <td>87</td>\n      <td>0</td>\n      <td>[FrequentItem(value='5803463.390000', est=348,...</td>\n      <td>435</td>\n      <td>0</td>\n      <td>2.0</td>\n      <td>2.0001</td>\n      <td>2.0</td>\n      <td>SummaryType.COLUMN</td>\n    </tr>\n    <tr>\n      <th>JPY</th>\n      <td>0</td>\n      <td>348</td>\n      <td>0</td>\n      <td>87</td>\n      <td>0</td>\n      <td>[FrequentItem(value='3964515.290000', est=348,...</td>\n      <td>435</td>\n      <td>0</td>\n      <td>2.0</td>\n      <td>2.0001</td>\n      <td>2.0</td>\n      <td>SummaryType.COLUMN</td>\n    </tr>\n    <tr>\n      <th>KRW</th>\n      <td>0</td>\n      <td>348</td>\n      <td>0</td>\n      <td>87</td>\n      <td>0</td>\n      <td>[FrequentItem(value='38305703.320000', est=348...</td>\n      <td>435</td>\n      <td>0</td>\n      <td>2.0</td>\n      <td>2.0001</td>\n      <td>2.0</td>\n      <td>SummaryType.COLUMN</td>\n    </tr>\n    <tr>\n      <th>NZD</th>\n      <td>0</td>\n      <td>348</td>\n      <td>0</td>\n      <td>87</td>\n      <td>0</td>\n      <td>[FrequentItem(value='46574.740000', est=348, u...</td>\n      <td>435</td>\n      <td>0</td>\n      <td>2.0</td>\n      <td>2.0001</td>\n      <td>2.0</td>\n      <td>SummaryType.COLUMN</td>\n    </tr>\n    <tr>\n      <th>PLN</th>\n      <td>0</td>\n      <td>348</td>\n      <td>0</td>\n      <td>87</td>\n      <td>0</td>\n      <td>[FrequentItem(value='156548.500000', est=348, ...</td>\n      <td>435</td>\n      <td>0</td>\n      <td>2.0</td>\n      <td>2.0001</td>\n      <td>2.0</td>\n      <td>SummaryType.COLUMN</td>\n    </tr>\n    <tr>\n      <th>RON</th>\n      <td>0</td>\n      <td>348</td>\n      <td>0</td>\n      <td>87</td>\n      <td>0</td>\n      <td>[FrequentItem(value='63684.860000', est=348, u...</td>\n      <td>435</td>\n      <td>0</td>\n      <td>2.0</td>\n      <td>2.0001</td>\n      <td>2.0</td>\n      <td>SummaryType.COLUMN</td>\n    </tr>\n    <tr>\n      <th>RUB</th>\n      <td>0</td>\n      <td>348</td>\n      <td>0</td>\n      <td>87</td>\n      <td>0</td>\n      <td>[FrequentItem(value='1948580.000000', est=348,...</td>\n      <td>435</td>\n      <td>0</td>\n      <td>2.0</td>\n      <td>2.0001</td>\n      <td>2.0</td>\n      <td>SummaryType.COLUMN</td>\n    </tr>\n    <tr>\n      <th>SEK</th>\n      <td>0</td>\n      <td>348</td>\n      <td>0</td>\n      <td>87</td>\n      <td>0</td>\n      <td>[FrequentItem(value='281589.650000', est=348, ...</td>\n      <td>435</td>\n      <td>0</td>\n      <td>2.0</td>\n      <td>2.0001</td>\n      <td>2.0</td>\n      <td>SummaryType.COLUMN</td>\n    </tr>\n    <tr>\n      <th>SGD</th>\n      <td>0</td>\n      <td>348</td>\n      <td>0</td>\n      <td>87</td>\n      <td>0</td>\n      <td>[FrequentItem(value='41714.920000', est=348, u...</td>\n      <td>435</td>\n      <td>0</td>\n      <td>2.0</td>\n      <td>2.0001</td>\n      <td>2.0</td>\n      <td>SummaryType.COLUMN</td>\n    </tr>\n    <tr>\n      <th>THB</th>\n      <td>0</td>\n      <td>348</td>\n      <td>0</td>\n      <td>87</td>\n      <td>0</td>\n      <td>[FrequentItem(value='1043140.140000', est=348,...</td>\n      <td>435</td>\n      <td>0</td>\n      <td>2.0</td>\n      <td>2.0001</td>\n      <td>2.0</td>\n      <td>SummaryType.COLUMN</td>\n    </tr>\n    <tr>\n      <th>TRY</th>\n      <td>0</td>\n      <td>348</td>\n      <td>0</td>\n      <td>87</td>\n      <td>0</td>\n      <td>[FrequentItem(value='506301.630000', est=348, ...</td>\n      <td>435</td>\n      <td>0</td>\n      <td>2.0</td>\n      <td>2.0001</td>\n      <td>2.0</td>\n      <td>SummaryType.COLUMN</td>\n    </tr>\n    <tr>\n      <th>TWD</th>\n      <td>0</td>\n      <td>348</td>\n      <td>0</td>\n      <td>87</td>\n      <td>0</td>\n      <td>[FrequentItem(value='15192482.290000', est=348...</td>\n      <td>435</td>\n      <td>0</td>\n      <td>2.0</td>\n      <td>2.0001</td>\n      <td>2.0</td>\n      <td>SummaryType.COLUMN</td>\n    </tr>\n    <tr>\n      <th>USD</th>\n      <td>0</td>\n      <td>348</td>\n      <td>0</td>\n      <td>87</td>\n      <td>0</td>\n      <td>[FrequentItem(value='30518.570000', est=348, u...</td>\n      <td>435</td>\n      <td>0</td>\n      <td>2.0</td>\n      <td>2.0001</td>\n      <td>2.0</td>\n      <td>SummaryType.COLUMN</td>\n    </tr>\n  </tbody>\n</table>\n</div>"
     },
     "execution_count": 5,
     "metadata": {},
     "output_type": "execute_result"
    }
   ],
   "source": [
    "merged_profiles_view = None\n",
    "for f in listdir(tmp_path):\n",
    "    path = os.path.join(tmp_path, f)\n",
    "    if isfile(path) and f[0] != \".\":\n",
    "        reading_result = why.read(path)\n",
    "        result_view =  reading_result.view()\n",
    "\n",
    "        if merged_profiles_view:\n",
    "            merged_profiles_view.merge(result_view)\n",
    "        else:\n",
    "            merged_profiles_view = result_view\n",
    "\n",
    "merged_profiles_view.to_pandas()"
   ],
   "metadata": {
    "collapsed": false,
    "pycharm": {
     "name": "#%%\n"
    }
   }
  },
  {
   "cell_type": "markdown",
   "source": [
    "# What's next?\n",
    "- Check out a deeper dive into rolling logs with a flask app here. # In progress\n",
    "- Get to know [\"Merging Profiles\"](https://github.com/whylabs/whylogs/blob/9618e5dd6570bc484579ec1325f2f512ff56977f/python/examples/basic/Merging_Profiles.ipynb) and how to use them.\n",
    "- See how all this can be visualized in [\"Notebook Profile Visualizer\"](https://github.com/whylabs/whylogs/blob/9618e5dd6570bc484579ec1325f2f512ff56977f/python/examples/basic/Notebook_Profile_Visualizer.ipynb)"
   ],
   "metadata": {
    "collapsed": false,
    "pycharm": {
     "name": "#%% md\n"
    }
   }
  }
 ],
 "metadata": {
  "kernelspec": {
   "display_name": "Python 3",
   "language": "python",
   "name": "python3"
  },
  "language_info": {
   "codemirror_mode": {
    "name": "ipython",
    "version": 2
   },
   "file_extension": ".py",
   "mimetype": "text/x-python",
   "name": "python",
   "nbconvert_exporter": "python",
   "pygments_lexer": "ipython2",
   "version": "2.7.6"
  }
 },
 "nbformat": 4,
 "nbformat_minor": 0
}