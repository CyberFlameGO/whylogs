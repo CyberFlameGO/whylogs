{
 "cells": [
  {
   "cell_type": "code",
   "execution_count": 1,
   "outputs": [
    {
     "name": "stdout",
     "output_type": "stream",
     "text": [
      "Requirement already satisfied: psutil in /Users/melanie/Dev/whylogs-v1/python/.venv/lib/python3.9/site-packages (5.9.0)\r\n",
      "\u001B[33mWARNING: You are using pip version 22.0.3; however, version 22.1.2 is available.\r\n",
      "You should consider upgrading via the '/Users/melanie/Dev/whylogs-v1/python/.venv/bin/python -m pip install --upgrade pip' command.\u001B[0m\u001B[33m\r\n",
      "\u001B[0m"
     ]
    }
   ],
   "source": [
    "!pip install psutil"
   ],
   "metadata": {
    "collapsed": false,
    "pycharm": {
     "name": "#%%\n"
    }
   }
  },
  {
   "cell_type": "code",
   "execution_count": 12,
   "outputs": [],
   "source": [
    "import time\n",
    "import psutil\n",
    "import whylogs as why\n",
    "\n",
    "import os"
   ],
   "metadata": {
    "collapsed": false,
    "pycharm": {
     "name": "#%%\n"
    }
   }
  },
  {
   "cell_type": "code",
   "execution_count": 12,
   "outputs": [],
   "source": [],
   "metadata": {
    "collapsed": false,
    "pycharm": {
     "name": "#%%\n"
    }
   }
  },
  {
   "cell_type": "code",
   "execution_count": 15,
   "outputs": [
    {
     "name": "stdout",
     "output_type": "stream",
     "text": [
      "{'time': time.struct_time(tm_year=2022, tm_mon=6, tm_mday=1, tm_hour=20, tm_min=41, tm_sec=49, tm_wday=2, tm_yday=152, tm_isdst=0), 'cpu_percentage': 13.1}\n",
      "{'time': time.struct_time(tm_year=2022, tm_mon=6, tm_mday=1, tm_hour=20, tm_min=41, tm_sec=50, tm_wday=2, tm_yday=152, tm_isdst=0), 'cpu_percentage': 20.2}\n",
      "{'time': time.struct_time(tm_year=2022, tm_mon=6, tm_mday=1, tm_hour=20, tm_min=41, tm_sec=51, tm_wday=2, tm_yday=152, tm_isdst=0), 'cpu_percentage': 20.7}\n",
      "{'time': time.struct_time(tm_year=2022, tm_mon=6, tm_mday=1, tm_hour=20, tm_min=41, tm_sec=52, tm_wday=2, tm_yday=152, tm_isdst=0), 'cpu_percentage': 9.5}\n",
      "{'time': time.struct_time(tm_year=2022, tm_mon=6, tm_mday=1, tm_hour=20, tm_min=41, tm_sec=53, tm_wday=2, tm_yday=152, tm_isdst=0), 'cpu_percentage': 15.2}\n",
      "{'time': time.struct_time(tm_year=2022, tm_mon=6, tm_mday=1, tm_hour=20, tm_min=41, tm_sec=54, tm_wday=2, tm_yday=152, tm_isdst=0), 'cpu_percentage': 9.4}\n",
      "{'time': time.struct_time(tm_year=2022, tm_mon=6, tm_mday=1, tm_hour=20, tm_min=41, tm_sec=55, tm_wday=2, tm_yday=152, tm_isdst=0), 'cpu_percentage': 11.0}\n",
      "{'time': time.struct_time(tm_year=2022, tm_mon=6, tm_mday=1, tm_hour=20, tm_min=41, tm_sec=56, tm_wday=2, tm_yday=152, tm_isdst=0), 'cpu_percentage': 11.5}\n",
      "{'time': time.struct_time(tm_year=2022, tm_mon=6, tm_mday=1, tm_hour=20, tm_min=41, tm_sec=57, tm_wday=2, tm_yday=152, tm_isdst=0), 'cpu_percentage': 11.6}\n",
      "{'time': time.struct_time(tm_year=2022, tm_mon=6, tm_mday=1, tm_hour=20, tm_min=41, tm_sec=58, tm_wday=2, tm_yday=152, tm_isdst=0), 'cpu_percentage': 15.2}\n"
     ]
    },
    {
     "ename": "KeyboardInterrupt",
     "evalue": "",
     "output_type": "error",
     "traceback": [
      "\u001B[0;31m---------------------------------------------------------------------------\u001B[0m",
      "\u001B[0;31mKeyboardInterrupt\u001B[0m                         Traceback (most recent call last)",
      "\u001B[0;32m/var/folders/l2/gclnndpj2bv1x_qyjts0c7tc0000gn/T/ipykernel_85421/1264418632.py\u001B[0m in \u001B[0;36m<cell line: 4>\u001B[0;34m()\u001B[0m\n\u001B[1;32m      8\u001B[0m         \u001B[0mlogger\u001B[0m\u001B[0;34m.\u001B[0m\u001B[0mlog\u001B[0m\u001B[0;34m(\u001B[0m\u001B[0mutility_details\u001B[0m\u001B[0;34m)\u001B[0m\u001B[0;34m\u001B[0m\u001B[0;34m\u001B[0m\u001B[0m\n\u001B[1;32m      9\u001B[0m         \u001B[0mprint\u001B[0m\u001B[0;34m(\u001B[0m\u001B[0mutility_details\u001B[0m\u001B[0;34m)\u001B[0m\u001B[0;34m\u001B[0m\u001B[0;34m\u001B[0m\u001B[0m\n\u001B[0;32m---> 10\u001B[0;31m         \u001B[0mtime\u001B[0m\u001B[0;34m.\u001B[0m\u001B[0msleep\u001B[0m\u001B[0;34m(\u001B[0m\u001B[0;36m1\u001B[0m\u001B[0;34m)\u001B[0m\u001B[0;34m\u001B[0m\u001B[0;34m\u001B[0m\u001B[0m\n\u001B[0m",
      "\u001B[0;31mKeyboardInterrupt\u001B[0m: "
     ]
    }
   ],
   "source": [
    "utility_details = {}\n",
    "tmp_path = os.path.join(os.getcwd(), \"example_output\")\n",
    "\n",
    "with why.logger(mode=\"rolling\", interval=2, when=\"S\", base_name=\"cpu_streaming_data\") as logger:\n",
    "    logger.append_writer(\"local\", base_dir=tmp_path)\n",
    "    while True:\n",
    "        utility_details = {\"time\": time.gmtime(), \"cpu_percentage\": psutil.cpu_percent()}\n",
    "        logger.log(utility_details)\n",
    "        print(utility_details)\n",
    "        time.sleep(1)"
   ],
   "metadata": {
    "collapsed": false,
    "pycharm": {
     "name": "#%%\n"
    }
   }
  },
  {
   "cell_type": "code",
   "execution_count": null,
   "outputs": [],
   "source": [],
   "metadata": {
    "collapsed": false,
    "pycharm": {
     "name": "#%%\n"
    }
   }
  },
  {
   "cell_type": "code",
   "execution_count": null,
   "outputs": [],
   "source": [],
   "metadata": {
    "collapsed": false,
    "pycharm": {
     "name": "#%%"
    }
   }
  }
 ],
 "metadata": {
  "kernelspec": {
   "display_name": "Python 3",
   "language": "python",
   "name": "python3"
  },
  "language_info": {
   "codemirror_mode": {
    "name": "ipython",
    "version": 2
   },
   "file_extension": ".py",
   "mimetype": "text/x-python",
   "name": "python",
   "nbconvert_exporter": "python",
   "pygments_lexer": "ipython2",
   "version": "2.7.6"
  }
 },
 "nbformat": 4,
 "nbformat_minor": 0
}