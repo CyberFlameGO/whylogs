{
 "cells": [
  {
   "cell_type": "code",
   "execution_count": 1,
   "outputs": [
    {
     "name": "stdout",
     "output_type": "stream",
     "text": [
      "Requirement already satisfied: psutil in /Users/melanie/Dev/whylogs-v1/python/.venv/lib/python3.9/site-packages (5.9.0)\r\n",
      "\u001B[33mWARNING: You are using pip version 22.0.3; however, version 22.1.2 is available.\r\n",
      "You should consider upgrading via the '/Users/melanie/Dev/whylogs-v1/python/.venv/bin/python -m pip install --upgrade pip' command.\u001B[0m\u001B[33m\r\n",
      "\u001B[0m"
     ]
    }
   ],
   "source": [
    "!pip install psutil\n"
   ],
   "metadata": {
    "collapsed": false,
    "pycharm": {
     "name": "#%%\n"
    }
   }
  },
  {
   "cell_type": "code",
   "execution_count": 2,
   "outputs": [],
   "source": [
    "import time\n",
    "import psutil\n",
    "import pandas as pd"
   ],
   "metadata": {
    "collapsed": false,
    "pycharm": {
     "name": "#%%\n"
    }
   }
  },
  {
   "cell_type": "code",
   "execution_count": 7,
   "outputs": [
    {
     "name": "stdout",
     "output_type": "stream",
     "text": [
      "{'time': time.struct_time(tm_year=2022, tm_mon=6, tm_mday=1, tm_hour=20, tm_min=15, tm_sec=12, tm_wday=2, tm_yday=152, tm_isdst=0), 'cpu_percentage': 12.3}\n",
      "{'time': time.struct_time(tm_year=2022, tm_mon=6, tm_mday=1, tm_hour=20, tm_min=15, tm_sec=14, tm_wday=2, tm_yday=152, tm_isdst=0), 'cpu_percentage': 15.9}\n",
      "{'time': time.struct_time(tm_year=2022, tm_mon=6, tm_mday=1, tm_hour=20, tm_min=15, tm_sec=16, tm_wday=2, tm_yday=152, tm_isdst=0), 'cpu_percentage': 14.1}\n",
      "{'time': time.struct_time(tm_year=2022, tm_mon=6, tm_mday=1, tm_hour=20, tm_min=15, tm_sec=18, tm_wday=2, tm_yday=152, tm_isdst=0), 'cpu_percentage': 12.6}\n",
      "{'time': time.struct_time(tm_year=2022, tm_mon=6, tm_mday=1, tm_hour=20, tm_min=15, tm_sec=20, tm_wday=2, tm_yday=152, tm_isdst=0), 'cpu_percentage': 12.1}\n",
      "{'time': time.struct_time(tm_year=2022, tm_mon=6, tm_mday=1, tm_hour=20, tm_min=15, tm_sec=23, tm_wday=2, tm_yday=152, tm_isdst=0), 'cpu_percentage': 11.8}\n",
      "{'time': time.struct_time(tm_year=2022, tm_mon=6, tm_mday=1, tm_hour=20, tm_min=15, tm_sec=25, tm_wday=2, tm_yday=152, tm_isdst=0), 'cpu_percentage': 10.3}\n",
      "{'time': time.struct_time(tm_year=2022, tm_mon=6, tm_mday=1, tm_hour=20, tm_min=15, tm_sec=27, tm_wday=2, tm_yday=152, tm_isdst=0), 'cpu_percentage': 14.2}\n"
     ]
    },
    {
     "ename": "KeyboardInterrupt",
     "evalue": "",
     "output_type": "error",
     "traceback": [
      "\u001B[0;31m---------------------------------------------------------------------------\u001B[0m",
      "\u001B[0;31mKeyboardInterrupt\u001B[0m                         Traceback (most recent call last)",
      "\u001B[0;32m/var/folders/l2/gclnndpj2bv1x_qyjts0c7tc0000gn/T/ipykernel_85421/4271383725.py\u001B[0m in \u001B[0;36m<cell line: 6>\u001B[0;34m()\u001B[0m\n\u001B[1;32m      7\u001B[0m     \u001B[0mutility_df\u001B[0m\u001B[0;34m.\u001B[0m\u001B[0mappend\u001B[0m\u001B[0;34m(\u001B[0m\u001B[0mutility_details\u001B[0m\u001B[0;34m,\u001B[0m \u001B[0mignore_index\u001B[0m\u001B[0;34m=\u001B[0m\u001B[0;32mTrue\u001B[0m\u001B[0;34m)\u001B[0m\u001B[0;34m\u001B[0m\u001B[0;34m\u001B[0m\u001B[0m\n\u001B[1;32m      8\u001B[0m     \u001B[0mprint\u001B[0m\u001B[0;34m(\u001B[0m\u001B[0mutility_details\u001B[0m\u001B[0;34m)\u001B[0m\u001B[0;34m\u001B[0m\u001B[0;34m\u001B[0m\u001B[0m\n\u001B[0;32m----> 9\u001B[0;31m     \u001B[0mtime\u001B[0m\u001B[0;34m.\u001B[0m\u001B[0msleep\u001B[0m\u001B[0;34m(\u001B[0m\u001B[0;36m2\u001B[0m\u001B[0;34m)\u001B[0m\u001B[0;34m\u001B[0m\u001B[0;34m\u001B[0m\u001B[0m\n\u001B[0m",
      "\u001B[0;31mKeyboardInterrupt\u001B[0m: "
     ]
    }
   ],
   "source": [
    "i = 0\n",
    "utility_details = {}\n",
    "utility_df = pd.DataFrame()\n",
    "\n",
    "while True:\n",
    "    utility_details = {\"time\": time.gmtime(), \"cpu_percentage\": psutil.cpu_percent()}\n",
    "    utility_df.append(utility_details, ignore_index=True)\n",
    "    print(utility_details)\n",
    "    time.sleep(2)"
   ],
   "metadata": {
    "collapsed": false,
    "pycharm": {
     "name": "#%%\n"
    }
   }
  },
  {
   "cell_type": "code",
   "execution_count": null,
   "outputs": [],
   "source": [],
   "metadata": {
    "collapsed": false,
    "pycharm": {
     "name": "#%%"
    }
   }
  }
 ],
 "metadata": {
  "kernelspec": {
   "display_name": "Python 3",
   "language": "python",
   "name": "python3"
  },
  "language_info": {
   "codemirror_mode": {
    "name": "ipython",
    "version": 2
   },
   "file_extension": ".py",
   "mimetype": "text/x-python",
   "name": "python",
   "nbconvert_exporter": "python",
   "pygments_lexer": "ipython2",
   "version": "2.7.6"
  }
 },
 "nbformat": 4,
 "nbformat_minor": 0
}