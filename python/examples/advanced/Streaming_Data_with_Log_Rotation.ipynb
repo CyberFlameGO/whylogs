{
 "cells": [
  {
   "cell_type": "code",
   "execution_count": 1,
   "outputs": [
    {
     "name": "stdout",
     "output_type": "stream",
     "text": [
      "Requirement already satisfied: psutil in /Users/melanie/Dev/whylogs-v1/python/.venv/lib/python3.9/site-packages (5.9.0)\r\n",
      "\u001B[33mWARNING: You are using pip version 22.0.3; however, version 22.1.2 is available.\r\n",
      "You should consider upgrading via the '/Users/melanie/Dev/whylogs-v1/python/.venv/bin/python -m pip install --upgrade pip' command.\u001B[0m\u001B[33m\r\n",
      "\u001B[0m"
     ]
    }
   ],
   "source": [
    "!pip install psutil"
   ],
   "metadata": {
    "collapsed": false,
    "pycharm": {
     "name": "#%%\n"
    }
   }
  },
  {
   "cell_type": "code",
   "execution_count": 9,
   "outputs": [],
   "source": [
    "import time\n",
    "import psutil\n",
    "import whylogs as why"
   ],
   "metadata": {
    "collapsed": false,
    "pycharm": {
     "name": "#%%\n"
    }
   }
  },
  {
   "cell_type": "code",
   "execution_count": 10,
   "outputs": [
    {
     "name": "stdout",
     "output_type": "stream",
     "text": [
      "{'time': time.struct_time(tm_year=2022, tm_mon=6, tm_mday=1, tm_hour=20, tm_min=20, tm_sec=20, tm_wday=2, tm_yday=152, tm_isdst=0), 'cpu_percentage': 12.8}\n",
      "{'time': time.struct_time(tm_year=2022, tm_mon=6, tm_mday=1, tm_hour=20, tm_min=20, tm_sec=21, tm_wday=2, tm_yday=152, tm_isdst=0), 'cpu_percentage': 24.1}\n",
      "{'time': time.struct_time(tm_year=2022, tm_mon=6, tm_mday=1, tm_hour=20, tm_min=20, tm_sec=22, tm_wday=2, tm_yday=152, tm_isdst=0), 'cpu_percentage': 22.7}\n",
      "{'time': time.struct_time(tm_year=2022, tm_mon=6, tm_mday=1, tm_hour=20, tm_min=20, tm_sec=23, tm_wday=2, tm_yday=152, tm_isdst=0), 'cpu_percentage': 20.7}\n",
      "{'time': time.struct_time(tm_year=2022, tm_mon=6, tm_mday=1, tm_hour=20, tm_min=20, tm_sec=24, tm_wday=2, tm_yday=152, tm_isdst=0), 'cpu_percentage': 24.6}\n",
      "{'time': time.struct_time(tm_year=2022, tm_mon=6, tm_mday=1, tm_hour=20, tm_min=20, tm_sec=25, tm_wday=2, tm_yday=152, tm_isdst=0), 'cpu_percentage': 24.4}\n",
      "{'time': time.struct_time(tm_year=2022, tm_mon=6, tm_mday=1, tm_hour=20, tm_min=20, tm_sec=26, tm_wday=2, tm_yday=152, tm_isdst=0), 'cpu_percentage': 19.1}\n",
      "{'time': time.struct_time(tm_year=2022, tm_mon=6, tm_mday=1, tm_hour=20, tm_min=20, tm_sec=27, tm_wday=2, tm_yday=152, tm_isdst=0), 'cpu_percentage': 23.7}\n",
      "{'time': time.struct_time(tm_year=2022, tm_mon=6, tm_mday=1, tm_hour=20, tm_min=20, tm_sec=28, tm_wday=2, tm_yday=152, tm_isdst=0), 'cpu_percentage': 20.1}\n",
      "{'time': time.struct_time(tm_year=2022, tm_mon=6, tm_mday=1, tm_hour=20, tm_min=20, tm_sec=29, tm_wday=2, tm_yday=152, tm_isdst=0), 'cpu_percentage': 25.3}\n",
      "{'time': time.struct_time(tm_year=2022, tm_mon=6, tm_mday=1, tm_hour=20, tm_min=20, tm_sec=30, tm_wday=2, tm_yday=152, tm_isdst=0), 'cpu_percentage': 22.8}\n",
      "{'time': time.struct_time(tm_year=2022, tm_mon=6, tm_mday=1, tm_hour=20, tm_min=20, tm_sec=31, tm_wday=2, tm_yday=152, tm_isdst=0), 'cpu_percentage': 17.3}\n",
      "{'time': time.struct_time(tm_year=2022, tm_mon=6, tm_mday=1, tm_hour=20, tm_min=20, tm_sec=32, tm_wday=2, tm_yday=152, tm_isdst=0), 'cpu_percentage': 18.9}\n",
      "{'time': time.struct_time(tm_year=2022, tm_mon=6, tm_mday=1, tm_hour=20, tm_min=20, tm_sec=33, tm_wday=2, tm_yday=152, tm_isdst=0), 'cpu_percentage': 16.7}\n",
      "{'time': time.struct_time(tm_year=2022, tm_mon=6, tm_mday=1, tm_hour=20, tm_min=20, tm_sec=34, tm_wday=2, tm_yday=152, tm_isdst=0), 'cpu_percentage': 15.2}\n",
      "{'time': time.struct_time(tm_year=2022, tm_mon=6, tm_mday=1, tm_hour=20, tm_min=20, tm_sec=35, tm_wday=2, tm_yday=152, tm_isdst=0), 'cpu_percentage': 14.6}\n",
      "{'time': time.struct_time(tm_year=2022, tm_mon=6, tm_mday=1, tm_hour=20, tm_min=20, tm_sec=36, tm_wday=2, tm_yday=152, tm_isdst=0), 'cpu_percentage': 17.8}\n",
      "{'time': time.struct_time(tm_year=2022, tm_mon=6, tm_mday=1, tm_hour=20, tm_min=20, tm_sec=37, tm_wday=2, tm_yday=152, tm_isdst=0), 'cpu_percentage': 19.5}\n"
     ]
    },
    {
     "ename": "KeyboardInterrupt",
     "evalue": "",
     "output_type": "error",
     "traceback": [
      "\u001B[0;31m---------------------------------------------------------------------------\u001B[0m",
      "\u001B[0;31mKeyboardInterrupt\u001B[0m                         Traceback (most recent call last)",
      "\u001B[0;32m/var/folders/l2/gclnndpj2bv1x_qyjts0c7tc0000gn/T/ipykernel_85421/488488877.py\u001B[0m in \u001B[0;36m<cell line: 3>\u001B[0;34m()\u001B[0m\n\u001B[1;32m      6\u001B[0m         \u001B[0mlogger\u001B[0m\u001B[0;34m.\u001B[0m\u001B[0mlog\u001B[0m\u001B[0;34m(\u001B[0m\u001B[0mutility_details\u001B[0m\u001B[0;34m)\u001B[0m\u001B[0;34m\u001B[0m\u001B[0;34m\u001B[0m\u001B[0m\n\u001B[1;32m      7\u001B[0m         \u001B[0mprint\u001B[0m\u001B[0;34m(\u001B[0m\u001B[0mutility_details\u001B[0m\u001B[0;34m)\u001B[0m\u001B[0;34m\u001B[0m\u001B[0;34m\u001B[0m\u001B[0m\n\u001B[0;32m----> 8\u001B[0;31m         \u001B[0mtime\u001B[0m\u001B[0;34m.\u001B[0m\u001B[0msleep\u001B[0m\u001B[0;34m(\u001B[0m\u001B[0;36m1\u001B[0m\u001B[0;34m)\u001B[0m\u001B[0;34m\u001B[0m\u001B[0;34m\u001B[0m\u001B[0m\n\u001B[0m",
      "\u001B[0;31mKeyboardInterrupt\u001B[0m: "
     ]
    }
   ],
   "source": [
    "utility_details = {}\n",
    "\n",
    "with why.logger(mode=\"rolling\", interval=5, when=\"S\", base_name=\"test_base_name\") as logger:\n",
    "    while True:\n",
    "        utility_details = {\"time\": time.gmtime(), \"cpu_percentage\": psutil.cpu_percent()}\n",
    "        logger.log(utility_details)\n",
    "        print(utility_details)\n",
    "        time.sleep(1)"
   ],
   "metadata": {
    "collapsed": false,
    "pycharm": {
     "name": "#%%\n"
    }
   }
  },
  {
   "cell_type": "code",
   "execution_count": null,
   "outputs": [],
   "source": [
    "logger."
   ],
   "metadata": {
    "collapsed": false,
    "pycharm": {
     "name": "#%%\n"
    }
   }
  },
  {
   "cell_type": "code",
   "execution_count": null,
   "outputs": [],
   "source": [],
   "metadata": {
    "collapsed": false,
    "pycharm": {
     "name": "#%%"
    }
   }
  }
 ],
 "metadata": {
  "kernelspec": {
   "display_name": "Python 3",
   "language": "python",
   "name": "python3"
  },
  "language_info": {
   "codemirror_mode": {
    "name": "ipython",
    "version": 2
   },
   "file_extension": ".py",
   "mimetype": "text/x-python",
   "name": "python",
   "nbconvert_exporter": "python",
   "pygments_lexer": "ipython2",
   "version": "2.7.6"
  }
 },
 "nbformat": 4,
 "nbformat_minor": 0
}